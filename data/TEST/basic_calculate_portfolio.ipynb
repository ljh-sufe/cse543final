{
 "cells": [
  {
   "cell_type": "code",
   "execution_count": 1,
   "metadata": {
    "collapsed": true
   },
   "outputs": [],
   "source": [
    "from pylab import *\n",
    "\n",
    "\n",
    "import pandas_datareader.data as web\n",
    "import datetime"
   ]
  },
  {
   "cell_type": "code",
   "execution_count": 2,
   "outputs": [],
   "source": [
    "# Aggregate Bonds ETF (BND) 10%\n",
    "# Small Cap ETF (VB) 20%\n",
    "# Developed markets ETF (VEA) 25%\n",
    "# S&P 500 ETF (VOO) 25%\n",
    "# Emerging Markets ETF (VWO) 20%\n",
    "symbols = ['VOO','VEA', 'VB', 'VWO','BND']"
   ],
   "metadata": {
    "collapsed": false,
    "pycharm": {
     "name": "#%%\n"
    }
   }
  },
  {
   "cell_type": "code",
   "execution_count": 3,
   "outputs": [],
   "source": [
    "price_data = web.get_data_yahoo(symbols,\n",
    "                               start = '2016-01-01',\n",
    "                               end = '2020-12-31')"
   ],
   "metadata": {
    "collapsed": false,
    "pycharm": {
     "name": "#%%\n"
    }
   }
  },
  {
   "cell_type": "code",
   "execution_count": 4,
   "outputs": [
    {
     "name": "stdout",
     "output_type": "stream",
     "text": [
      "Attributes   Adj Close                                              \\\n",
      "Symbols            VOO        VEA         VB        VWO        BND   \n",
      "Date                                                                 \n",
      "2016-01-04  164.283936  30.214212  99.598419  27.064051  68.581879   \n",
      "2016-01-05  164.578018  30.180807  99.653305  27.123657  68.666832   \n",
      "2016-01-06  162.492264  29.629477  98.162270  26.638245  68.972687   \n",
      "2016-01-07  158.534714  29.069801  95.518631  25.778118  68.981186   \n",
      "2016-01-08  156.850006  28.710604  94.192238  25.548187  69.066154   \n",
      "\n",
      "Attributes       Close                                               ...  \\\n",
      "Symbols            VOO        VEA          VB        VWO        BND  ...   \n",
      "Date                                                                 ...   \n",
      "2016-01-04  184.309998  36.169998  108.879997  31.780001  80.720001  ...   \n",
      "2016-01-05  184.639999  36.130001  108.940002  31.850000  80.820000  ...   \n",
      "2016-01-06  182.300003  35.470001  107.309998  31.280001  81.180000  ...   \n",
      "2016-01-07  177.860001  34.799999  104.419998  30.270000  81.190002  ...   \n",
      "2016-01-08  175.970001  34.369999  102.970001  30.000000  81.290001  ...   \n",
      "\n",
      "Attributes        Open                                              Volume  \\\n",
      "Symbols            VOO        VEA          VB    VWO        BND        VOO   \n",
      "Date                                                                         \n",
      "2016-01-04  183.770004  36.110001  109.000000  31.84  80.790001  4193500.0   \n",
      "2016-01-05  184.570007  36.080002  109.290001  31.90  80.760002  2882500.0   \n",
      "2016-01-06  181.929993  35.369999  107.570000  31.32  81.029999  2755100.0   \n",
      "2016-01-07  179.149994  34.900002  105.750000  30.48  81.120003  4952500.0   \n",
      "2016-01-08  178.970001  34.990002  104.769997  30.48  81.139999  7357300.0   \n",
      "\n",
      "Attributes                                                \n",
      "Symbols            VEA         VB         VWO        BND  \n",
      "Date                                                      \n",
      "2016-01-04  12529400.0   649400.0  27116100.0  2750500.0  \n",
      "2016-01-05   6913600.0   675800.0  17664200.0  1513600.0  \n",
      "2016-01-06  10205400.0  1288500.0  19744800.0  2391100.0  \n",
      "2016-01-07  31307000.0  1182700.0  29616400.0  2792900.0  \n",
      "2016-01-08  15695200.0   999200.0  32237200.0  1405100.0  \n",
      "\n",
      "[5 rows x 30 columns]\n"
     ]
    }
   ],
   "source": [
    "print(price_data.head())"
   ],
   "metadata": {
    "collapsed": false,
    "pycharm": {
     "name": "#%%\n"
    }
   }
  },
  {
   "cell_type": "code",
   "execution_count": 5,
   "outputs": [
    {
     "name": "stdout",
     "output_type": "stream",
     "text": [
      "Symbols            VOO        VEA         VB        VWO        BND\n",
      "Date                                                              \n",
      "2016-01-04  164.283936  30.214212  99.598419  27.064051  68.581879\n",
      "2016-01-05  164.578018  30.180807  99.653305  27.123657  68.666832\n",
      "2016-01-06  162.492264  29.629477  98.162270  26.638245  68.972687\n",
      "2016-01-07  158.534714  29.069801  95.518631  25.778118  68.981186\n",
      "2016-01-08  156.850006  28.710604  94.192238  25.548187  69.066154\n"
     ]
    }
   ],
   "source": [
    "price_data = price_data['Adj Close']\n",
    "print(price_data.head())"
   ],
   "metadata": {
    "collapsed": false,
    "pycharm": {
     "name": "#%%\n"
    }
   }
  },
  {
   "cell_type": "code",
   "execution_count": 6,
   "outputs": [],
   "source": [
    "w = [0.1,0.2,0.25,0.25,0.2]"
   ],
   "metadata": {
    "collapsed": false,
    "pycharm": {
     "name": "#%%\n"
    }
   }
  },
  {
   "cell_type": "code",
   "execution_count": 7,
   "outputs": [
    {
     "name": "stdout",
     "output_type": "stream",
     "text": [
      "Symbols          VOO       VEA        VB       VWO       BND\n",
      "Date                                                        \n",
      "2016-01-05  0.001790 -0.001106  0.000551  0.002202  0.001239\n",
      "2016-01-06 -0.012673 -0.018268 -0.014962 -0.017896  0.004454\n",
      "2016-01-07 -0.024355 -0.018889 -0.026931 -0.032289  0.000123\n",
      "2016-01-08 -0.010627 -0.012356 -0.013886 -0.008920  0.001232\n",
      "2016-01-11  0.000114  0.004364 -0.004856 -0.004333 -0.004183\n"
     ]
    }
   ],
   "source": [
    "# calculate the asset returns in our portfolio\n",
    "ret_data = price_data.pct_change()[1:]\n",
    "print(ret_data.head())"
   ],
   "metadata": {
    "collapsed": false,
    "pycharm": {
     "name": "#%%\n"
    }
   }
  },
  {
   "cell_type": "code",
   "execution_count": 8,
   "outputs": [
    {
     "data": {
      "text/plain": "Date\n2016-01-05    0.004677\n2016-01-06   -0.059345\n2016-01-07   -0.102342\n2016-01-08   -0.044557\n2016-01-11   -0.008893\n                ...   \n2020-12-24    0.001937\n2020-12-28    0.011650\n2020-12-29    0.005983\n2020-12-30    0.028541\n2020-12-31   -0.003243\nLength: 1258, dtype: float64"
     },
     "execution_count": 8,
     "metadata": {},
     "output_type": "execute_result"
    }
   ],
   "source": [
    "#the sum of the weighted returns of the assets, no weight\n",
    "port_ret = ret_data.sum(axis=1)\n",
    "# axis =1 tells pandas we want to add\n",
    "# the rows\n",
    "port_ret"
   ],
   "metadata": {
    "collapsed": false,
    "pycharm": {
     "name": "#%%\n"
    }
   }
  },
  {
   "cell_type": "code",
   "execution_count": 9,
   "outputs": [
    {
     "name": "stdout",
     "output_type": "stream",
     "text": [
      "Symbols          VOO       VEA        VB       VWO       BND\n",
      "Date                                                        \n",
      "2016-01-05  0.000179 -0.000221  0.000138  0.000551  0.000248\n",
      "2016-01-06 -0.001267 -0.003654 -0.003741 -0.004474  0.000891\n",
      "2016-01-07 -0.002436 -0.003778 -0.006733 -0.008072  0.000025\n",
      "2016-01-08 -0.001063 -0.002471 -0.003472 -0.002230  0.000246\n",
      "2016-01-11  0.000011  0.000873 -0.001214 -0.001083 -0.000837\n"
     ]
    }
   ],
   "source": [
    "#calculate the weighted returns of our assets\n",
    "weighted_returns = (w * ret_data)\n",
    "print(weighted_returns.head())"
   ],
   "metadata": {
    "collapsed": false,
    "pycharm": {
     "name": "#%%\n"
    }
   }
  },
  {
   "cell_type": "code",
   "execution_count": 10,
   "outputs": [
    {
     "data": {
      "text/plain": "Date\n2016-01-05    0.000894\n2016-01-06   -0.012245\n2016-01-07   -0.020994\n2016-01-08   -0.008989\n2016-01-11   -0.002250\n                ...   \n2020-12-24   -0.000329\n2020-12-28    0.001315\n2020-12-29    0.001401\n2020-12-30    0.006794\n2020-12-31   -0.001349\nLength: 1258, dtype: float64"
     },
     "execution_count": 10,
     "metadata": {},
     "output_type": "execute_result"
    }
   ],
   "source": [
    "#the sum of the weighted returns of the assets\n",
    "port_ret = weighted_returns.sum(axis=1)\n",
    "# axis =1 tells pandas we want to add\n",
    "# the rows\n",
    "port_ret"
   ],
   "metadata": {
    "collapsed": false,
    "pycharm": {
     "name": "#%%\n"
    }
   }
  },
  {
   "cell_type": "code",
   "execution_count": 11,
   "outputs": [
    {
     "data": {
      "text/plain": "<Figure size 432x288 with 1 Axes>",
      "image/png": "[encoded data removed]"
     },
     "metadata": {
      "needs_background": "light"
     },
     "output_type": "display_data"
    }
   ],
   "source": [
    "fig = plt.figure()\n",
    "ax1 = fig.add_axes([0.1,0.1,0.8,0.8])\n",
    "ax1.hist(port_ret, bins = 100)\n",
    "ax1.set_xlabel('Portfolio returns')\n",
    "ax1.set_ylabel(\"Freq\")\n",
    "ax1.set_title(\"Portfolio Returns calculated manually\")\n",
    "plt.show();"
   ],
   "metadata": {
    "collapsed": false,
    "pycharm": {
     "name": "#%%\n"
    }
   }
  },
  {
   "cell_type": "code",
   "execution_count": 12,
   "outputs": [
    {
     "data": {
      "text/plain": "              sp500  daily_return\nDATE                             \n2016-01-05  2016.71      0.002012\n2016-01-06  1990.26     -0.013115\n2016-01-07  1943.09     -0.023700\n2016-01-08  1922.03     -0.010838\n2016-01-11  1923.67      0.000853\n...             ...           ...\n2020-12-23  3690.01      0.000746\n2020-12-24  3703.06      0.003537\n2020-12-29  3727.04     -0.002227\n2020-12-30  3732.04      0.001342\n2020-12-31  3756.07      0.006439\n\n[1213 rows x 2 columns]",
      "text/html": "<div>\n<style scoped>\n    .dataframe tbody tr th:only-of-type {\n        vertical-align: middle;\n    }\n\n    .dataframe tbody tr th {\n        vertical-align: top;\n    }\n\n    .dataframe thead th {\n        text-align: right;\n    }\n</style>\n<table border=\"1\" class=\"dataframe\">\n  <thead>\n    <tr style=\"text-align: right;\">\n      <th></th>\n      <th>sp500</th>\n      <th>daily_return</th>\n    </tr>\n    <tr>\n      <th>DATE</th>\n      <th></th>\n      <th></th>\n    </tr>\n  </thead>\n  <tbody>\n    <tr>\n      <th>2016-01-05</th>\n      <td>2016.71</td>\n      <td>0.002012</td>\n    </tr>\n    <tr>\n      <th>2016-01-06</th>\n      <td>1990.26</td>\n      <td>-0.013115</td>\n    </tr>\n    <tr>\n      <th>2016-01-07</th>\n      <td>1943.09</td>\n      <td>-0.023700</td>\n    </tr>\n    <tr>\n      <th>2016-01-08</th>\n      <td>1922.03</td>\n      <td>-0.010838</td>\n    </tr>\n    <tr>\n      <th>2016-01-11</th>\n      <td>1923.67</td>\n      <td>0.000853</td>\n    </tr>\n    <tr>\n      <th>...</th>\n      <td>...</td>\n      <td>...</td>\n    </tr>\n    <tr>\n      <th>2020-12-23</th>\n      <td>3690.01</td>\n      <td>0.000746</td>\n    </tr>\n    <tr>\n      <th>2020-12-24</th>\n      <td>3703.06</td>\n      <td>0.003537</td>\n    </tr>\n    <tr>\n      <th>2020-12-29</th>\n      <td>3727.04</td>\n      <td>-0.002227</td>\n    </tr>\n    <tr>\n      <th>2020-12-30</th>\n      <td>3732.04</td>\n      <td>0.001342</td>\n    </tr>\n    <tr>\n      <th>2020-12-31</th>\n      <td>3756.07</td>\n      <td>0.006439</td>\n    </tr>\n  </tbody>\n</table>\n<p>1213 rows × 2 columns</p>\n</div>"
     },
     "execution_count": 12,
     "metadata": {},
     "output_type": "execute_result"
    }
   ],
   "source": [
    "start = datetime.datetime(2016, 1, 1)\n",
    "end = datetime.datetime(2020, 12, 31)\n",
    "SP500 = web.DataReader(['sp500'], 'fred', start, end)\n",
    "SP500['daily_return'] = (SP500['sp500']/ SP500['sp500'].shift(1)) -1\n",
    "#Drop all Not a number values using drop method.\n",
    "SP500.dropna(inplace = True)\n",
    "SP500"
   ],
   "metadata": {
    "collapsed": false,
    "pycharm": {
     "name": "#%%\n"
    }
   }
  },
  {
   "cell_type": "code",
   "execution_count": 13,
   "outputs": [
    {
     "data": {
      "text/plain": "DATE\n2016-01-05    0.002012\n2016-01-06   -0.013115\n2016-01-07   -0.023700\n2016-01-08   -0.010838\n2016-01-11    0.000853\n                ...   \n2020-12-23    0.000746\n2020-12-24    0.003537\n2020-12-29   -0.002227\n2020-12-30    0.001342\n2020-12-31    0.006439\nName: daily_return, Length: 1213, dtype: float64"
     },
     "execution_count": 13,
     "metadata": {},
     "output_type": "execute_result"
    }
   ],
   "source": [
    "SP500['daily_return']"
   ],
   "metadata": {
    "collapsed": false,
    "pycharm": {
     "name": "#%%\n"
    }
   }
  },
  {
   "cell_type": "code",
   "execution_count": 14,
   "outputs": [
    {
     "data": {
      "text/plain": "<Figure size 432x288 with 1 Axes>",
      "image/png": "[encoded data removed]"
     },
     "metadata": {
      "needs_background": "light"
     },
     "output_type": "display_data"
    }
   ],
   "source": [
    "fig = plt.figure()\n",
    "ax1 = fig.add_axes([0.1,0.1,0.8,0.8])\n",
    "ax1.hist(SP500['daily_return'], bins = 100)\n",
    "ax1.set_xlabel('Portfolio returns')\n",
    "ax1.set_ylabel(\"Freq\")\n",
    "ax1.set_title(\"SP500 Portfolio Returns calculated manually\")\n",
    "plt.show();"
   ],
   "metadata": {
    "collapsed": false,
    "pycharm": {
     "name": "#%%\n"
    }
   }
  },
  {
   "cell_type": "code",
   "execution_count": 15,
   "outputs": [
    {
     "data": {
      "text/plain": "2016-01-05   -0.001118\n2016-01-06    0.000871\n2016-01-07    0.002707\n2016-01-08    0.001849\n2016-01-11   -0.003103\n                ...   \n2020-12-24   -0.003866\n2020-12-28         NaN\n2020-12-29    0.003629\n2020-12-30    0.005452\n2020-12-31   -0.007788\nLength: 1258, dtype: float64"
     },
     "execution_count": 15,
     "metadata": {},
     "output_type": "execute_result"
    }
   ],
   "source": [
    "result= port_ret-SP500['daily_return']\n",
    "result"
   ],
   "metadata": {
    "collapsed": false,
    "pycharm": {
     "name": "#%%\n"
    }
   }
  },
  {
   "cell_type": "code",
   "execution_count": 17,
   "outputs": [
    {
     "data": {
      "text/plain": "<Figure size 432x288 with 1 Axes>",
      "image/png": "[encoded data removed]"
     },
     "metadata": {
      "needs_background": "light"
     },
     "output_type": "display_data"
    }
   ],
   "source": [
    "fig = plt.figure()\n",
    "ax1 = fig.add_axes([0.1,0.1,0.8,0.8])\n",
    "ax1.hist(result, bins = 100)\n",
    "ax1.set_xlabel('Difference between two Portfolio returns')\n",
    "ax1.set_ylabel(\"Freq\")\n",
    "ax1.set_title(\"Difference between Portfolio Returns and SP500 \")\n",
    "plt.show();"
   ],
   "metadata": {
    "collapsed": false,
    "pycharm": {
     "name": "#%%\n"
    }
   }
  }
 ],
 "metadata": {
  "kernelspec": {
   "display_name": "Python 3",
   "language": "python",
   "name": "python3"
  },
  "language_info": {
   "codemirror_mode": {
    "name": "ipython",
    "version": 2
   },
   "file_extension": ".py",
   "mimetype": "text/x-python",
   "name": "python",
   "nbconvert_exporter": "python",
   "pygments_lexer": "ipython2",
   "version": "2.7.6"
  }
 },
 "nbformat": 4,
 "nbformat_minor": 0
}