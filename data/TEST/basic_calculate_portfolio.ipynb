{
 "cells": [
  {
   "cell_type": "code",
   "execution_count": 40,
   "metadata": {
    "collapsed": true
   },
   "outputs": [],
   "source": [
    "import pandas as pd\n",
    "import numpy as np\n",
    "import matplotlib.pyplot as plt\n",
    "import pandas_datareader as web\n",
    "import pandas as pd\n",
    "import os\n",
    "\n",
    "import datetime as dt\n",
    "from concurrent import futures\n",
    "import yfinance as yf\n",
    "import numpy as np\n",
    "import matplotlib.pyplot as plt\n",
    "from pylab import *\n",
    "\n",
    "import pandas as pd\n",
    "#if you get an error after executing the code, try adding below. pd.core.common.is_list_like = pd.api.types.is_list_like\n",
    "import pandas_datareader.data as web\n",
    "import datetime"
   ]
  },
  {
   "cell_type": "code",
   "execution_count": 41,
   "outputs": [],
   "source": [
    "# Aggregate Bonds ETF (BND) 10%\n",
    "# Small Cap ETF (VB) 20%\n",
    "# Developed markets ETF (VEA) 25%\n",
    "# S&P 500 ETF (VOO) 25%\n",
    "# Emerging Markets ETF (VWO) 20%\n",
    "symbols = ['VOO','VEA', 'VB', 'VWO','BND']"
   ],
   "metadata": {
    "collapsed": false,
    "pycharm": {
     "name": "#%%\n"
    }
   }
  },
  {
   "cell_type": "code",
   "execution_count": 42,
   "outputs": [],
   "source": [
    "price_data = web.get_data_yahoo(symbols,\n",
    "                               start = '2016-01-01',\n",
    "                               end = '2020-12-31')"
   ],
   "metadata": {
    "collapsed": false,
    "pycharm": {
     "name": "#%%\n"
    }
   }
  },
  {
   "cell_type": "code",
   "execution_count": 43,
   "outputs": [
    {
     "name": "stdout",
     "output_type": "stream",
     "text": [
      "Attributes   Adj Close                                              \\\n",
      "Symbols            VOO        VEA         VB        VWO        BND   \n",
      "Date                                                                 \n",
      "2016-01-04  164.283875  30.214212  99.598419  27.064045  68.581879   \n",
      "2016-01-05  164.578003  30.180805  99.653313  27.123653  68.666847   \n",
      "2016-01-06  162.492279  29.629478  98.162254  26.638241  68.972679   \n",
      "2016-01-07  158.534668  29.069803  95.518623  25.778116  68.981224   \n",
      "2016-01-08  156.850082  28.710604  94.192223  25.548187  69.066177   \n",
      "\n",
      "Attributes       Close                                               ...  \\\n",
      "Symbols            VOO        VEA          VB        VWO        BND  ...   \n",
      "Date                                                                 ...   \n",
      "2016-01-04  184.309998  36.169998  108.879997  31.780001  80.720001  ...   \n",
      "2016-01-05  184.639999  36.130001  108.940002  31.850000  80.820000  ...   \n",
      "2016-01-06  182.300003  35.470001  107.309998  31.280001  81.180000  ...   \n",
      "2016-01-07  177.860001  34.799999  104.419998  30.270000  81.190002  ...   \n",
      "2016-01-08  175.970001  34.369999  102.970001  30.000000  81.290001  ...   \n",
      "\n",
      "Attributes        Open                                              Volume  \\\n",
      "Symbols            VOO        VEA          VB    VWO        BND        VOO   \n",
      "Date                                                                         \n",
      "2016-01-04  183.770004  36.110001  109.000000  31.84  80.790001  4193500.0   \n",
      "2016-01-05  184.570007  36.080002  109.290001  31.90  80.760002  2882500.0   \n",
      "2016-01-06  181.929993  35.369999  107.570000  31.32  81.029999  2755100.0   \n",
      "2016-01-07  179.149994  34.900002  105.750000  30.48  81.120003  4952500.0   \n",
      "2016-01-08  178.970001  34.990002  104.769997  30.48  81.139999  7357300.0   \n",
      "\n",
      "Attributes                                                \n",
      "Symbols            VEA         VB         VWO        BND  \n",
      "Date                                                      \n",
      "2016-01-04  12529400.0   649400.0  27116100.0  2750500.0  \n",
      "2016-01-05   6913600.0   675800.0  17664200.0  1513600.0  \n",
      "2016-01-06  10205400.0  1288500.0  19744800.0  2391100.0  \n",
      "2016-01-07  31307000.0  1182700.0  29616400.0  2792900.0  \n",
      "2016-01-08  15695200.0   999200.0  32237200.0  1405100.0  \n",
      "\n",
      "[5 rows x 30 columns]\n"
     ]
    }
   ],
   "source": [
    "print(price_data.head())"
   ],
   "metadata": {
    "collapsed": false,
    "pycharm": {
     "name": "#%%\n"
    }
   }
  },
  {
   "cell_type": "code",
   "execution_count": 44,
   "outputs": [
    {
     "name": "stdout",
     "output_type": "stream",
     "text": [
      "Symbols            VOO        VEA         VB        VWO        BND\n",
      "Date                                                              \n",
      "2016-01-04  164.283875  30.214212  99.598419  27.064045  68.581879\n",
      "2016-01-05  164.578003  30.180805  99.653313  27.123653  68.666847\n",
      "2016-01-06  162.492279  29.629478  98.162254  26.638241  68.972679\n",
      "2016-01-07  158.534668  29.069803  95.518623  25.778116  68.981224\n",
      "2016-01-08  156.850082  28.710604  94.192223  25.548187  69.066177\n"
     ]
    }
   ],
   "source": [
    "price_data = price_data['Adj Close']\n",
    "print(price_data.head())"
   ],
   "metadata": {
    "collapsed": false,
    "pycharm": {
     "name": "#%%\n"
    }
   }
  },
  {
   "cell_type": "code",
   "execution_count": 45,
   "outputs": [],
   "source": [
    "w = [0.1,0.2,0.25,0.25,0.2]"
   ],
   "metadata": {
    "collapsed": false,
    "pycharm": {
     "name": "#%%\n"
    }
   }
  },
  {
   "cell_type": "code",
   "execution_count": 46,
   "outputs": [
    {
     "name": "stdout",
     "output_type": "stream",
     "text": [
      "Symbols          VOO       VEA        VB       VWO       BND\n",
      "Date                                                        \n",
      "2016-01-05  0.001790 -0.001106  0.000551  0.002202  0.001239\n",
      "2016-01-06 -0.012673 -0.018267 -0.014962 -0.017896  0.004454\n",
      "2016-01-07 -0.024356 -0.018889 -0.026931 -0.032289  0.000124\n",
      "2016-01-08 -0.010626 -0.012356 -0.013886 -0.008920  0.001232\n",
      "2016-01-11  0.000114  0.004364 -0.004856 -0.004333 -0.004183\n"
     ]
    }
   ],
   "source": [
    "# calculate the asset returns in our portfolio\n",
    "ret_data = price_data.pct_change()[1:]\n",
    "print(ret_data.head())"
   ],
   "metadata": {
    "collapsed": false,
    "pycharm": {
     "name": "#%%\n"
    }
   }
  },
  {
   "cell_type": "code",
   "execution_count": 47,
   "outputs": [
    {
     "data": {
      "text/plain": "Date\n2016-01-05    0.004677\n2016-01-06   -0.059346\n2016-01-07   -0.102341\n2016-01-08   -0.044557\n2016-01-11   -0.008895\n                ...   \n2020-12-24    0.001937\n2020-12-28    0.011650\n2020-12-29    0.005983\n2020-12-30    0.028541\n2020-12-31   -0.003242\nLength: 1258, dtype: float64"
     },
     "execution_count": 47,
     "metadata": {},
     "output_type": "execute_result"
    }
   ],
   "source": [
    "#the sum of the weighted returns of the assets, no weight\n",
    "port_ret = ret_data.sum(axis=1)\n",
    "# axis =1 tells pandas we want to add\n",
    "# the rows\n",
    "port_ret"
   ],
   "metadata": {
    "collapsed": false,
    "pycharm": {
     "name": "#%%\n"
    }
   }
  },
  {
   "cell_type": "code",
   "execution_count": 48,
   "outputs": [
    {
     "name": "stdout",
     "output_type": "stream",
     "text": [
      "Symbols          VOO       VEA        VB       VWO       BND\n",
      "Date                                                        \n",
      "2016-01-05  0.000179 -0.000221  0.000138  0.000551  0.000248\n",
      "2016-01-06 -0.001267 -0.003653 -0.003741 -0.004474  0.000891\n",
      "2016-01-07 -0.002436 -0.003778 -0.006733 -0.008072  0.000025\n",
      "2016-01-08 -0.001063 -0.002471 -0.003472 -0.002230  0.000246\n",
      "2016-01-11  0.000011  0.000873 -0.001214 -0.001083 -0.000837\n"
     ]
    }
   ],
   "source": [
    "#calculate the weighted returns of our assets\n",
    "weighted_returns = (w * ret_data)\n",
    "print(weighted_returns.head())"
   ],
   "metadata": {
    "collapsed": false,
    "pycharm": {
     "name": "#%%\n"
    }
   }
  },
  {
   "cell_type": "code",
   "execution_count": 49,
   "outputs": [
    {
     "data": {
      "text/plain": "Date\n2016-01-05    0.000894\n2016-01-06   -0.012245\n2016-01-07   -0.020994\n2016-01-08   -0.008989\n2016-01-11   -0.002250\n                ...   \n2020-12-24   -0.000329\n2020-12-28    0.001315\n2020-12-29    0.001401\n2020-12-30    0.006794\n2020-12-31   -0.001349\nLength: 1258, dtype: float64"
     },
     "execution_count": 49,
     "metadata": {},
     "output_type": "execute_result"
    }
   ],
   "source": [
    "#the sum of the weighted returns of the assets\n",
    "port_ret = weighted_returns.sum(axis=1)\n",
    "# axis =1 tells pandas we want to add\n",
    "# the rows\n",
    "port_ret"
   ],
   "metadata": {
    "collapsed": false,
    "pycharm": {
     "name": "#%%\n"
    }
   }
  },
  {
   "cell_type": "code",
   "execution_count": 50,
   "outputs": [
    {
     "data": {
      "text/plain": "<Figure size 432x288 with 1 Axes>",
      "image/png": "[encoded data removed]"
     },
     "metadata": {
      "needs_background": "light"
     },
     "output_type": "display_data"
    }
   ],
   "source": [
    "fig = plt.figure()\n",
    "ax1 = fig.add_axes([0.1,0.1,0.8,0.8])\n",
    "ax1.hist(port_ret, bins = 100)\n",
    "ax1.set_xlabel('Portfolio returns')\n",
    "ax1.set_ylabel(\"Freq\")\n",
    "ax1.set_title(\"Portfolio Returns calculated manually\")\n",
    "plt.show();"
   ],
   "metadata": {
    "collapsed": false,
    "pycharm": {
     "name": "#%%\n"
    }
   }
  },
  {
   "cell_type": "code",
   "execution_count": 51,
   "outputs": [
    {
     "data": {
      "text/plain": "              sp500  daily_return\nDATE                             \n2016-01-05  2016.71      0.002012\n2016-01-06  1990.26     -0.013115\n2016-01-07  1943.09     -0.023700\n2016-01-08  1922.03     -0.010838\n2016-01-11  1923.67      0.000853\n...             ...           ...\n2020-12-23  3690.01      0.000746\n2020-12-24  3703.06      0.003537\n2020-12-29  3727.04     -0.002227\n2020-12-30  3732.04      0.001342\n2020-12-31  3756.07      0.006439\n\n[1213 rows x 2 columns]",
      "text/html": "<div>\n<style scoped>\n    .dataframe tbody tr th:only-of-type {\n        vertical-align: middle;\n    }\n\n    .dataframe tbody tr th {\n        vertical-align: top;\n    }\n\n    .dataframe thead th {\n        text-align: right;\n    }\n</style>\n<table border=\"1\" class=\"dataframe\">\n  <thead>\n    <tr style=\"text-align: right;\">\n      <th></th>\n      <th>sp500</th>\n      <th>daily_return</th>\n    </tr>\n    <tr>\n      <th>DATE</th>\n      <th></th>\n      <th></th>\n    </tr>\n  </thead>\n  <tbody>\n    <tr>\n      <th>2016-01-05</th>\n      <td>2016.71</td>\n      <td>0.002012</td>\n    </tr>\n    <tr>\n      <th>2016-01-06</th>\n      <td>1990.26</td>\n      <td>-0.013115</td>\n    </tr>\n    <tr>\n      <th>2016-01-07</th>\n      <td>1943.09</td>\n      <td>-0.023700</td>\n    </tr>\n    <tr>\n      <th>2016-01-08</th>\n      <td>1922.03</td>\n      <td>-0.010838</td>\n    </tr>\n    <tr>\n      <th>2016-01-11</th>\n      <td>1923.67</td>\n      <td>0.000853</td>\n    </tr>\n    <tr>\n      <th>...</th>\n      <td>...</td>\n      <td>...</td>\n    </tr>\n    <tr>\n      <th>2020-12-23</th>\n      <td>3690.01</td>\n      <td>0.000746</td>\n    </tr>\n    <tr>\n      <th>2020-12-24</th>\n      <td>3703.06</td>\n      <td>0.003537</td>\n    </tr>\n    <tr>\n      <th>2020-12-29</th>\n      <td>3727.04</td>\n      <td>-0.002227</td>\n    </tr>\n    <tr>\n      <th>2020-12-30</th>\n      <td>3732.04</td>\n      <td>0.001342</td>\n    </tr>\n    <tr>\n      <th>2020-12-31</th>\n      <td>3756.07</td>\n      <td>0.006439</td>\n    </tr>\n  </tbody>\n</table>\n<p>1213 rows × 2 columns</p>\n</div>"
     },
     "execution_count": 51,
     "metadata": {},
     "output_type": "execute_result"
    }
   ],
   "source": [
    "start = datetime.datetime(2016, 1, 1)\n",
    "end = datetime.datetime(2020, 12, 31)\n",
    "SP500 = web.DataReader(['sp500'], 'fred', start, end)\n",
    "SP500['daily_return'] = (SP500['sp500']/ SP500['sp500'].shift(1)) -1\n",
    "#Drop all Not a number values using drop method.\n",
    "SP500.dropna(inplace = True)\n",
    "SP500"
   ],
   "metadata": {
    "collapsed": false,
    "pycharm": {
     "name": "#%%\n"
    }
   }
  },
  {
   "cell_type": "code",
   "execution_count": 52,
   "outputs": [
    {
     "data": {
      "text/plain": "DATE\n2016-01-05    0.002012\n2016-01-06   -0.013115\n2016-01-07   -0.023700\n2016-01-08   -0.010838\n2016-01-11    0.000853\n                ...   \n2020-12-23    0.000746\n2020-12-24    0.003537\n2020-12-29   -0.002227\n2020-12-30    0.001342\n2020-12-31    0.006439\nName: daily_return, Length: 1213, dtype: float64"
     },
     "execution_count": 52,
     "metadata": {},
     "output_type": "execute_result"
    }
   ],
   "source": [
    "SP500['daily_return']"
   ],
   "metadata": {
    "collapsed": false,
    "pycharm": {
     "name": "#%%\n"
    }
   }
  },
  {
   "cell_type": "code",
   "execution_count": 53,
   "outputs": [
    {
     "ename": "ValueError",
     "evalue": "Cannot merge a Series without a name",
     "output_type": "error",
     "traceback": [
      "\u001B[1;31m---------------------------------------------------------------------------\u001B[0m",
      "\u001B[1;31mValueError\u001B[0m                                Traceback (most recent call last)",
      "Input \u001B[1;32mIn [53]\u001B[0m, in \u001B[0;36m<cell line: 1>\u001B[1;34m()\u001B[0m\n\u001B[1;32m----> 1\u001B[0m result \u001B[38;5;241m=\u001B[39m \u001B[43mpd\u001B[49m\u001B[38;5;241;43m.\u001B[39;49m\u001B[43mmerge\u001B[49m\u001B[43m(\u001B[49m\u001B[43mport_ret\u001B[49m\u001B[43m,\u001B[49m\u001B[43mSP500\u001B[49m\u001B[43m[\u001B[49m\u001B[38;5;124;43m'\u001B[39;49m\u001B[38;5;124;43mdaily_return\u001B[39;49m\u001B[38;5;124;43m'\u001B[39;49m\u001B[43m]\u001B[49m\u001B[43m,\u001B[49m\u001B[43mon\u001B[49m\u001B[38;5;241;43m=\u001B[39;49m\u001B[38;5;124;43m'\u001B[39;49m\u001B[38;5;124;43mDATE\u001B[39;49m\u001B[38;5;124;43m'\u001B[39;49m\u001B[43m)\u001B[49m\n",
      "File \u001B[1;32mE:\\pycharm\\file\\cse543final\\lib\\site-packages\\pandas\\core\\reshape\\merge.py:107\u001B[0m, in \u001B[0;36mmerge\u001B[1;34m(left, right, how, on, left_on, right_on, left_index, right_index, sort, suffixes, copy, indicator, validate)\u001B[0m\n\u001B[0;32m     90\u001B[0m \u001B[38;5;129m@Substitution\u001B[39m(\u001B[38;5;124m\"\u001B[39m\u001B[38;5;130;01m\\n\u001B[39;00m\u001B[38;5;124mleft : DataFrame or named Series\u001B[39m\u001B[38;5;124m\"\u001B[39m)\n\u001B[0;32m     91\u001B[0m \u001B[38;5;129m@Appender\u001B[39m(_merge_doc, indents\u001B[38;5;241m=\u001B[39m\u001B[38;5;241m0\u001B[39m)\n\u001B[0;32m     92\u001B[0m \u001B[38;5;28;01mdef\u001B[39;00m \u001B[38;5;21mmerge\u001B[39m(\n\u001B[1;32m   (...)\u001B[0m\n\u001B[0;32m    105\u001B[0m     validate: \u001B[38;5;28mstr\u001B[39m \u001B[38;5;241m|\u001B[39m \u001B[38;5;28;01mNone\u001B[39;00m \u001B[38;5;241m=\u001B[39m \u001B[38;5;28;01mNone\u001B[39;00m,\n\u001B[0;32m    106\u001B[0m ) \u001B[38;5;241m-\u001B[39m\u001B[38;5;241m>\u001B[39m DataFrame:\n\u001B[1;32m--> 107\u001B[0m     op \u001B[38;5;241m=\u001B[39m \u001B[43m_MergeOperation\u001B[49m\u001B[43m(\u001B[49m\n\u001B[0;32m    108\u001B[0m \u001B[43m        \u001B[49m\u001B[43mleft\u001B[49m\u001B[43m,\u001B[49m\n\u001B[0;32m    109\u001B[0m \u001B[43m        \u001B[49m\u001B[43mright\u001B[49m\u001B[43m,\u001B[49m\n\u001B[0;32m    110\u001B[0m \u001B[43m        \u001B[49m\u001B[43mhow\u001B[49m\u001B[38;5;241;43m=\u001B[39;49m\u001B[43mhow\u001B[49m\u001B[43m,\u001B[49m\n\u001B[0;32m    111\u001B[0m \u001B[43m        \u001B[49m\u001B[43mon\u001B[49m\u001B[38;5;241;43m=\u001B[39;49m\u001B[43mon\u001B[49m\u001B[43m,\u001B[49m\n\u001B[0;32m    112\u001B[0m \u001B[43m        \u001B[49m\u001B[43mleft_on\u001B[49m\u001B[38;5;241;43m=\u001B[39;49m\u001B[43mleft_on\u001B[49m\u001B[43m,\u001B[49m\n\u001B[0;32m    113\u001B[0m \u001B[43m        \u001B[49m\u001B[43mright_on\u001B[49m\u001B[38;5;241;43m=\u001B[39;49m\u001B[43mright_on\u001B[49m\u001B[43m,\u001B[49m\n\u001B[0;32m    114\u001B[0m \u001B[43m        \u001B[49m\u001B[43mleft_index\u001B[49m\u001B[38;5;241;43m=\u001B[39;49m\u001B[43mleft_index\u001B[49m\u001B[43m,\u001B[49m\n\u001B[0;32m    115\u001B[0m \u001B[43m        \u001B[49m\u001B[43mright_index\u001B[49m\u001B[38;5;241;43m=\u001B[39;49m\u001B[43mright_index\u001B[49m\u001B[43m,\u001B[49m\n\u001B[0;32m    116\u001B[0m \u001B[43m        \u001B[49m\u001B[43msort\u001B[49m\u001B[38;5;241;43m=\u001B[39;49m\u001B[43msort\u001B[49m\u001B[43m,\u001B[49m\n\u001B[0;32m    117\u001B[0m \u001B[43m        \u001B[49m\u001B[43msuffixes\u001B[49m\u001B[38;5;241;43m=\u001B[39;49m\u001B[43msuffixes\u001B[49m\u001B[43m,\u001B[49m\n\u001B[0;32m    118\u001B[0m \u001B[43m        \u001B[49m\u001B[43mcopy\u001B[49m\u001B[38;5;241;43m=\u001B[39;49m\u001B[43mcopy\u001B[49m\u001B[43m,\u001B[49m\n\u001B[0;32m    119\u001B[0m \u001B[43m        \u001B[49m\u001B[43mindicator\u001B[49m\u001B[38;5;241;43m=\u001B[39;49m\u001B[43mindicator\u001B[49m\u001B[43m,\u001B[49m\n\u001B[0;32m    120\u001B[0m \u001B[43m        \u001B[49m\u001B[43mvalidate\u001B[49m\u001B[38;5;241;43m=\u001B[39;49m\u001B[43mvalidate\u001B[49m\u001B[43m,\u001B[49m\n\u001B[0;32m    121\u001B[0m \u001B[43m    \u001B[49m\u001B[43m)\u001B[49m\n\u001B[0;32m    122\u001B[0m     \u001B[38;5;28;01mreturn\u001B[39;00m op\u001B[38;5;241m.\u001B[39mget_result()\n",
      "File \u001B[1;32mE:\\pycharm\\file\\cse543final\\lib\\site-packages\\pandas\\core\\reshape\\merge.py:628\u001B[0m, in \u001B[0;36m_MergeOperation.__init__\u001B[1;34m(self, left, right, how, on, left_on, right_on, axis, left_index, right_index, sort, suffixes, copy, indicator, validate)\u001B[0m\n\u001B[0;32m    611\u001B[0m \u001B[38;5;28;01mdef\u001B[39;00m \u001B[38;5;21m__init__\u001B[39m(\n\u001B[0;32m    612\u001B[0m     \u001B[38;5;28mself\u001B[39m,\n\u001B[0;32m    613\u001B[0m     left: DataFrame \u001B[38;5;241m|\u001B[39m Series,\n\u001B[1;32m   (...)\u001B[0m\n\u001B[0;32m    626\u001B[0m     validate: \u001B[38;5;28mstr\u001B[39m \u001B[38;5;241m|\u001B[39m \u001B[38;5;28;01mNone\u001B[39;00m \u001B[38;5;241m=\u001B[39m \u001B[38;5;28;01mNone\u001B[39;00m,\n\u001B[0;32m    627\u001B[0m ):\n\u001B[1;32m--> 628\u001B[0m     _left \u001B[38;5;241m=\u001B[39m \u001B[43m_validate_operand\u001B[49m\u001B[43m(\u001B[49m\u001B[43mleft\u001B[49m\u001B[43m)\u001B[49m\n\u001B[0;32m    629\u001B[0m     _right \u001B[38;5;241m=\u001B[39m _validate_operand(right)\n\u001B[0;32m    630\u001B[0m     \u001B[38;5;28mself\u001B[39m\u001B[38;5;241m.\u001B[39mleft \u001B[38;5;241m=\u001B[39m \u001B[38;5;28mself\u001B[39m\u001B[38;5;241m.\u001B[39morig_left \u001B[38;5;241m=\u001B[39m _left\n",
      "File \u001B[1;32mE:\\pycharm\\file\\cse543final\\lib\\site-packages\\pandas\\core\\reshape\\merge.py:2277\u001B[0m, in \u001B[0;36m_validate_operand\u001B[1;34m(obj)\u001B[0m\n\u001B[0;32m   2275\u001B[0m \u001B[38;5;28;01melif\u001B[39;00m \u001B[38;5;28misinstance\u001B[39m(obj, ABCSeries):\n\u001B[0;32m   2276\u001B[0m     \u001B[38;5;28;01mif\u001B[39;00m obj\u001B[38;5;241m.\u001B[39mname \u001B[38;5;129;01mis\u001B[39;00m \u001B[38;5;28;01mNone\u001B[39;00m:\n\u001B[1;32m-> 2277\u001B[0m         \u001B[38;5;28;01mraise\u001B[39;00m \u001B[38;5;167;01mValueError\u001B[39;00m(\u001B[38;5;124m\"\u001B[39m\u001B[38;5;124mCannot merge a Series without a name\u001B[39m\u001B[38;5;124m\"\u001B[39m)\n\u001B[0;32m   2278\u001B[0m     \u001B[38;5;28;01melse\u001B[39;00m:\n\u001B[0;32m   2279\u001B[0m         \u001B[38;5;28;01mreturn\u001B[39;00m obj\u001B[38;5;241m.\u001B[39mto_frame()\n",
      "\u001B[1;31mValueError\u001B[0m: Cannot merge a Series without a name"
     ]
    }
   ],
   "source": [],
   "metadata": {
    "collapsed": false,
    "pycharm": {
     "name": "#%%\n"
    }
   }
  },
  {
   "cell_type": "code",
   "execution_count": 54,
   "outputs": [
    {
     "data": {
      "text/plain": "<Figure size 432x288 with 1 Axes>",
      "image/png": "[encoded data removed]"
     },
     "metadata": {
      "needs_background": "light"
     },
     "output_type": "display_data"
    }
   ],
   "source": [
    "fig = plt.figure()\n",
    "ax1 = fig.add_axes([0.1,0.1,0.8,0.8])\n",
    "ax1.hist(SP500['daily_return'], bins = 100)\n",
    "ax1.set_xlabel('Portfolio returns')\n",
    "ax1.set_ylabel(\"Freq\")\n",
    "ax1.set_title(\"SP500 Portfolio Returns calculated manually\")\n",
    "plt.show();"
   ],
   "metadata": {
    "collapsed": false,
    "pycharm": {
     "name": "#%%\n"
    }
   }
  },
  {
   "cell_type": "code",
   "execution_count": 56,
   "outputs": [
    {
     "data": {
      "text/plain": "2016-01-05   -0.001118\n2016-01-06    0.000871\n2016-01-07    0.002707\n2016-01-08    0.001849\n2016-01-11   -0.003103\n                ...   \n2020-12-24   -0.003866\n2020-12-28         NaN\n2020-12-29    0.003629\n2020-12-30    0.005452\n2020-12-31   -0.007788\nLength: 1258, dtype: float64"
     },
     "execution_count": 56,
     "metadata": {},
     "output_type": "execute_result"
    }
   ],
   "source": [
    "result= port_ret-SP500['daily_return']\n",
    "result"
   ],
   "metadata": {
    "collapsed": false,
    "pycharm": {
     "name": "#%%\n"
    }
   }
  },
  {
   "cell_type": "code",
   "execution_count": 58,
   "outputs": [
    {
     "data": {
      "text/plain": "<Figure size 432x288 with 1 Axes>",
      "image/png": "[encoded data removed]"
     },
     "metadata": {
      "needs_background": "light"
     },
     "output_type": "display_data"
    }
   ],
   "source": [
    "fig = plt.figure()\n",
    "ax1 = fig.add_axes([0.1,0.1,0.8,0.8])\n",
    "ax1.hist(result, bins = 100)\n",
    "ax1.set_xlabel('Difference between Portfolio returns')\n",
    "ax1.set_ylabel(\"Freq\")\n",
    "ax1.set_title(\"Difference between Portfolio Returns and SP500 \")\n",
    "plt.show();"
   ],
   "metadata": {
    "collapsed": false,
    "pycharm": {
     "name": "#%%\n"
    }
   }
  }
 ],
 "metadata": {
  "kernelspec": {
   "display_name": "Python 3",
   "language": "python",
   "name": "python3"
  },
  "language_info": {
   "codemirror_mode": {
    "name": "ipython",
    "version": 2
   },
   "file_extension": ".py",
   "mimetype": "text/x-python",
   "name": "python",
   "nbconvert_exporter": "python",
   "pygments_lexer": "ipython2",
   "version": "2.7.6"
  }
 },
 "nbformat": 4,
 "nbformat_minor": 0
}