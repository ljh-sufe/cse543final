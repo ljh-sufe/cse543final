{
 "cells": [
  {
   "cell_type": "code",
   "execution_count": 1,
   "metadata": {
    "collapsed": true
   },
   "outputs": [],
   "source": [
    "from pylab import *\n",
    "import pandas_datareader.data as web\n",
    "import datetime\n",
    "import yfinance as yf\n",
    "import pandas as pd"
   ]
  },
  {
   "cell_type": "code",
   "execution_count": 2,
   "outputs": [
    {
     "name": "stdout",
     "output_type": "stream",
     "text": [
      "Attributes   Adj Close                                              \\\n",
      "Symbols            VOO        VEA         VB        VWO        BND   \n",
      "Date                                                                 \n",
      "2016-01-04  164.283844  30.214212  99.598427  27.064043  68.454933   \n",
      "2016-01-05  164.578064  30.180803  99.653313  27.123657  68.539780   \n",
      "2016-01-06  162.492279  29.629471  98.162270  26.638245  68.845055   \n",
      "2016-01-07  158.534744  29.069799  95.518616  25.778118  68.853539   \n",
      "2016-01-08  156.850037  28.710606  94.192230  25.548191  68.938347   \n",
      "\n",
      "Attributes       Close                                               ...  \\\n",
      "Symbols            VOO        VEA          VB        VWO        BND  ...   \n",
      "Date                                                                 ...   \n",
      "2016-01-04  184.309998  36.169998  108.879997  31.780001  80.720001  ...   \n",
      "2016-01-05  184.639999  36.130001  108.940002  31.850000  80.820000  ...   \n",
      "2016-01-06  182.300003  35.470001  107.309998  31.280001  81.180000  ...   \n",
      "2016-01-07  177.860001  34.799999  104.419998  30.270000  81.190002  ...   \n",
      "2016-01-08  175.970001  34.369999  102.970001  30.000000  81.290001  ...   \n",
      "\n",
      "Attributes        Open                                              Volume  \\\n",
      "Symbols            VOO        VEA          VB    VWO        BND        VOO   \n",
      "Date                                                                         \n",
      "2016-01-04  183.770004  36.110001  109.000000  31.84  80.790001  4193500.0   \n",
      "2016-01-05  184.570007  36.080002  109.290001  31.90  80.760002  2882500.0   \n",
      "2016-01-06  181.929993  35.369999  107.570000  31.32  81.029999  2755100.0   \n",
      "2016-01-07  179.149994  34.900002  105.750000  30.48  81.120003  4952500.0   \n",
      "2016-01-08  178.970001  34.990002  104.769997  30.48  81.139999  7357300.0   \n",
      "\n",
      "Attributes                                                \n",
      "Symbols            VEA         VB         VWO        BND  \n",
      "Date                                                      \n",
      "2016-01-04  12529400.0   649400.0  27116100.0  2750500.0  \n",
      "2016-01-05   6913600.0   675800.0  17664200.0  1513600.0  \n",
      "2016-01-06  10205400.0  1288500.0  19744800.0  2391100.0  \n",
      "2016-01-07  31307000.0  1182700.0  29616400.0  2792900.0  \n",
      "2016-01-08  15695200.0   999200.0  32237200.0  1405100.0  \n",
      "\n",
      "[5 rows x 30 columns]\n"
     ]
    }
   ],
   "source": [
    "# get data of 5 company from yahoo\n",
    "symbols = ['VOO','VEA', 'VB', 'VWO','BND']\n",
    "price_data = web.get_data_yahoo(symbols,\n",
    "                               start = '2016-01-01',\n",
    "                               end = '2020-12-31')\n",
    "print(price_data.head())"
   ],
   "metadata": {
    "collapsed": false,
    "pycharm": {
     "name": "#%%\n"
    }
   }
  },
  {
   "cell_type": "code",
   "execution_count": 3,
   "outputs": [
    {
     "name": "stdout",
     "output_type": "stream",
     "text": [
      "Symbols            VOO        VEA         VB        VWO        BND\n",
      "Date                                                              \n",
      "2016-01-04  164.283844  30.214212  99.598427  27.064043  68.454933\n",
      "2016-01-05  164.578064  30.180803  99.653313  27.123657  68.539780\n",
      "2016-01-06  162.492279  29.629471  98.162270  26.638245  68.845055\n",
      "2016-01-07  158.534744  29.069799  95.518616  25.778118  68.853539\n",
      "2016-01-08  156.850037  28.710606  94.192230  25.548191  68.938347\n"
     ]
    }
   ],
   "source": [
    "# show adj close return of 5 comapny\n",
    "price_data = price_data['Adj Close']\n",
    "print(price_data.head())"
   ],
   "metadata": {
    "collapsed": false,
    "pycharm": {
     "name": "#%%\n"
    }
   }
  },
  {
   "cell_type": "code",
   "execution_count": 7,
   "outputs": [
    {
     "data": {
      "text/plain": "Date\n2016-01-05    0.004678\n2016-01-06   -0.059346\n2016-01-07   -0.102342\n2016-01-08   -0.044557\n2016-01-11   -0.008894\n                ...   \n2020-12-24    0.001937\n2020-12-28    0.011650\n2020-12-29    0.005983\n2020-12-30    0.028541\n2020-12-31   -0.003243\nLength: 1258, dtype: float64"
     },
     "execution_count": 7,
     "metadata": {},
     "output_type": "execute_result"
    }
   ],
   "source": [
    "# calculate totally daily return\n",
    "ret_data = price_data.pct_change()[1:]\n",
    "daily_total_ret = ret_data.sum(axis=1)\n",
    "daily_total_ret"
   ],
   "metadata": {
    "collapsed": false,
    "pycharm": {
     "name": "#%%\n"
    }
   }
  },
  {
   "cell_type": "code",
   "execution_count": 9,
   "outputs": [
    {
     "data": {
      "text/plain": "Date\n2016-01-05    0.000894\n2016-01-06   -0.012245\n2016-01-07   -0.020994\n2016-01-08   -0.008989\n2016-01-11   -0.002250\n                ...   \n2020-12-24   -0.000329\n2020-12-28    0.001315\n2020-12-29    0.001401\n2020-12-30    0.006794\n2020-12-31   -0.001350\nLength: 1258, dtype: float64"
     },
     "execution_count": 9,
     "metadata": {},
     "output_type": "execute_result"
    }
   ],
   "source": [
    "# calculate return based on our weight\n",
    "w = [0.1, 0.2, 0.25, 0.25, 0.2]\n",
    "weight_daily_return = (w*ret_data)\n",
    "weight_daily_total_ret = weight_daily_return.sum(axis=1)\n",
    "weight_daily_total_ret"
   ],
   "metadata": {
    "collapsed": false,
    "pycharm": {
     "name": "#%%\n"
    }
   }
  },
  {
   "cell_type": "code",
   "execution_count": 10,
   "outputs": [],
   "source": [
    "def std_dev(data):\n",
    "    #get number of observation\n",
    "    n = len(data)\n",
    "    #calculate mean\n",
    "    mean = sum(data)/n\n",
    "    #calculate deviations from mean\n",
    "    deviations = sum([(x-mean)**2 for x in data])\n",
    "    #calculate variance&standard deviation\n",
    "    variance = deviations/(n-1)\n",
    "    s = variance**(1/2)\n",
    "    return s"
   ],
   "metadata": {
    "collapsed": false,
    "pycharm": {
     "name": "#%%\n"
    }
   }
  },
  {
   "cell_type": "code",
   "execution_count": 11,
   "outputs": [],
   "source": [
    "def sharpe_ratio(data, risk_rate=0.0):\n",
    "    # Calculate average daily return\n",
    "    mean_daily_return = sum(data)/len(data)\n",
    "    # Calculate Standard Deviation\n",
    "    s = std_dev(data)\n",
    "    # Calculate Daily Sharpe Ratio\n",
    "    daily_sharpe_ratio = (mean_daily_return - risk_rate)/s\n",
    "    #Annualize Daily Sharpe Ratio\n",
    "    sharpe_ratio = 252**(1/2)*daily_sharpe_ratio\n",
    "    return sharpe_ratio"
   ],
   "metadata": {
    "collapsed": false,
    "pycharm": {
     "name": "#%%\n"
    }
   }
  },
  {
   "cell_type": "code",
   "execution_count": 16,
   "outputs": [
    {
     "name": "stdout",
     "output_type": "stream",
     "text": [
      "0.7871115555178295\n",
      "0.7679101800991996\n"
     ]
    }
   ],
   "source": [
    "# calculate normal and weight sharp ratio\n",
    "sharpe_ratio(daily_total_ret)\n",
    "sharpe_ratio(weight_daily_total_ret)\n",
    "print(sharpe_ratio(daily_total_ret))\n",
    "print(sharpe_ratio(weight_daily_total_ret))"
   ],
   "metadata": {
    "collapsed": false,
    "pycharm": {
     "name": "#%%\n"
    }
   }
  },
  {
   "cell_type": "code",
   "execution_count": 21,
   "outputs": [
    {
     "data": {
      "text/plain": "              sp500  daily-return\nDATE                             \n2016-01-05  2016.71      0.002012\n2016-01-06  1990.26     -0.013115\n2016-01-07  1943.09     -0.023700\n2016-01-08  1922.03     -0.010838\n2016-01-11  1923.67      0.000853\n...             ...           ...\n2020-12-23  3690.01      0.000746\n2020-12-24  3703.06      0.003537\n2020-12-29  3727.04     -0.002227\n2020-12-30  3732.04      0.001342\n2020-12-31  3756.07      0.006439\n\n[1213 rows x 2 columns]",
      "text/html": "<div>\n<style scoped>\n    .dataframe tbody tr th:only-of-type {\n        vertical-align: middle;\n    }\n\n    .dataframe tbody tr th {\n        vertical-align: top;\n    }\n\n    .dataframe thead th {\n        text-align: right;\n    }\n</style>\n<table border=\"1\" class=\"dataframe\">\n  <thead>\n    <tr style=\"text-align: right;\">\n      <th></th>\n      <th>sp500</th>\n      <th>daily-return</th>\n    </tr>\n    <tr>\n      <th>DATE</th>\n      <th></th>\n      <th></th>\n    </tr>\n  </thead>\n  <tbody>\n    <tr>\n      <th>2016-01-05</th>\n      <td>2016.71</td>\n      <td>0.002012</td>\n    </tr>\n    <tr>\n      <th>2016-01-06</th>\n      <td>1990.26</td>\n      <td>-0.013115</td>\n    </tr>\n    <tr>\n      <th>2016-01-07</th>\n      <td>1943.09</td>\n      <td>-0.023700</td>\n    </tr>\n    <tr>\n      <th>2016-01-08</th>\n      <td>1922.03</td>\n      <td>-0.010838</td>\n    </tr>\n    <tr>\n      <th>2016-01-11</th>\n      <td>1923.67</td>\n      <td>0.000853</td>\n    </tr>\n    <tr>\n      <th>...</th>\n      <td>...</td>\n      <td>...</td>\n    </tr>\n    <tr>\n      <th>2020-12-23</th>\n      <td>3690.01</td>\n      <td>0.000746</td>\n    </tr>\n    <tr>\n      <th>2020-12-24</th>\n      <td>3703.06</td>\n      <td>0.003537</td>\n    </tr>\n    <tr>\n      <th>2020-12-29</th>\n      <td>3727.04</td>\n      <td>-0.002227</td>\n    </tr>\n    <tr>\n      <th>2020-12-30</th>\n      <td>3732.04</td>\n      <td>0.001342</td>\n    </tr>\n    <tr>\n      <th>2020-12-31</th>\n      <td>3756.07</td>\n      <td>0.006439</td>\n    </tr>\n  </tbody>\n</table>\n<p>1213 rows × 2 columns</p>\n</div>"
     },
     "execution_count": 21,
     "metadata": {},
     "output_type": "execute_result"
    }
   ],
   "source": [
    "# calculate sp500 daily return\n",
    "sp500 = web.DataReader(['sp500'],'fred',start = '2016-01-01',end = '2020-12-31')\n",
    "sp500['daily-return']=(sp500['sp500']/sp500['sp500'].shift(1))-1\n",
    "sp500.dropna(inplace = True)\n",
    "sp500"
   ],
   "metadata": {
    "collapsed": false,
    "pycharm": {
     "name": "#%%\n"
    }
   }
  },
  {
   "cell_type": "code",
   "execution_count": 25,
   "outputs": [
    {
     "data": {
      "text/plain": "0.7467484222921855"
     },
     "execution_count": 25,
     "metadata": {},
     "output_type": "execute_result"
    }
   ],
   "source": [
    "# calculate sp500 sharp ratio\n",
    "sp500['daily-return']\n",
    "sharpe_ratio(sp500['daily-return'])"
   ],
   "metadata": {
    "collapsed": false,
    "pycharm": {
     "name": "#%%\n"
    }
   }
  },
  {
   "cell_type": "markdown",
   "source": [],
   "metadata": {
    "collapsed": false
   }
  }
 ],
 "metadata": {
  "kernelspec": {
   "display_name": "Python 3",
   "language": "python",
   "name": "python3"
  },
  "language_info": {
   "codemirror_mode": {
    "name": "ipython",
    "version": 2
   },
   "file_extension": ".py",
   "mimetype": "text/x-python",
   "name": "python",
   "nbconvert_exporter": "python",
   "pygments_lexer": "ipython2",
   "version": "2.7.6"
  }
 },
 "nbformat": 4,
 "nbformat_minor": 0
}