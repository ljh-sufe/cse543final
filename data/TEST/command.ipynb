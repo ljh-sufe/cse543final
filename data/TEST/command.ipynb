{
 "cells": [
  {
   "cell_type": "code",
   "execution_count": 26,
   "metadata": {
    "collapsed": true
   },
   "outputs": [],
   "source": [
    "from pylab import *\n",
    "import pandas_datareader.data as web\n",
    "import datetime\n",
    "import yfinance as yf\n",
    "import pandas as pd"
   ]
  },
  {
   "cell_type": "code",
   "execution_count": 27,
   "outputs": [
    {
     "name": "stdout",
     "output_type": "stream",
     "text": [
      "Attributes   Adj Close                                               \\\n",
      "Symbols            VOO        VEA          VB        VWO        BND   \n",
      "Date                                                                  \n",
      "2020-01-02  288.039520  41.946133  161.142578  43.294979  79.671417   \n",
      "2020-01-03  285.935303  41.436214  160.559921  42.524742  79.956085   \n",
      "2020-01-06  287.006714  41.577854  160.773621  42.448662  79.861198   \n",
      "2020-01-07  286.215149  41.511749  160.414246  42.429649  79.794777   \n",
      "2020-01-08  287.692017  41.568409  160.928955  42.619831  79.671417   \n",
      "\n",
      "Attributes       Close                                               ...  \\\n",
      "Symbols            VOO        VEA          VB        VWO        BND  ...   \n",
      "Date                                                                 ...   \n",
      "2020-01-02  298.420013  44.419998  165.929993  45.529999  83.970001  ...   \n",
      "2020-01-03  296.239990  43.880001  165.330002  44.720001  84.269997  ...   \n",
      "2020-01-06  297.350006  44.029999  165.550003  44.639999  84.169998  ...   \n",
      "2020-01-07  296.529999  43.959999  165.179993  44.619999  84.099998  ...   \n",
      "2020-01-08  298.059998  44.020000  165.710007  44.820000  83.970001  ...   \n",
      "\n",
      "Attributes        Open                                               \\\n",
      "Symbols            VOO        VEA          VB        VWO        BND   \n",
      "Date                                                                  \n",
      "2020-01-02  297.290009  44.349998  166.500000  45.070000  83.980003   \n",
      "2020-01-03  295.220001  43.880001  164.130005  44.830002  84.180000   \n",
      "2020-01-06  294.420013  43.820000  164.199997  44.400002  84.300003   \n",
      "2020-01-07  296.820007  44.060001  165.320007  44.540001  84.199997   \n",
      "2020-01-08  296.709991  43.910000  165.259995  44.509998  84.129997   \n",
      "\n",
      "Attributes     Volume                                              \n",
      "Symbols           VOO        VEA        VB         VWO        BND  \n",
      "Date                                                               \n",
      "2020-01-02  3142400.0  8229000.0  779100.0  13427400.0  5511000.0  \n",
      "2020-01-03  3247900.0  9697300.0  982800.0  12501600.0  5368300.0  \n",
      "2020-01-06  2777100.0  8579400.0  846100.0  10315100.0  3710400.0  \n",
      "2020-01-07  2251800.0  7884600.0  599000.0  11859300.0  3029900.0  \n",
      "2020-01-08  3719500.0  9948100.0  448000.0  11113700.0  3674400.0  \n",
      "\n",
      "[5 rows x 30 columns]\n"
     ]
    }
   ],
   "source": [
    "# get data of 5 company from yahoo\n",
    "symbols = ['VOO','VEA', 'VB', 'VWO','BND']\n",
    "price_data = web.get_data_yahoo(symbols,\n",
    "                               start = '2020-01-01',\n",
    "                               end = '2020-12-31')\n",
    "print(price_data.head())"
   ],
   "metadata": {
    "collapsed": false,
    "pycharm": {
     "name": "#%%\n"
    }
   }
  },
  {
   "cell_type": "code",
   "execution_count": 28,
   "outputs": [
    {
     "name": "stdout",
     "output_type": "stream",
     "text": [
      "Symbols            VOO        VEA          VB        VWO        BND\n",
      "Date                                                               \n",
      "2020-01-02  288.039520  41.946133  161.142578  43.294979  79.671417\n",
      "2020-01-03  285.935303  41.436214  160.559921  42.524742  79.956085\n",
      "2020-01-06  287.006714  41.577854  160.773621  42.448662  79.861198\n",
      "2020-01-07  286.215149  41.511749  160.414246  42.429649  79.794777\n",
      "2020-01-08  287.692017  41.568409  160.928955  42.619831  79.671417\n"
     ]
    }
   ],
   "source": [
    "# show adj close return of 5 company\n",
    "price_data = price_data['Adj Close']\n",
    "print(price_data.head())"
   ],
   "metadata": {
    "collapsed": false,
    "pycharm": {
     "name": "#%%\n"
    }
   }
  },
  {
   "cell_type": "code",
   "execution_count": 30,
   "outputs": [
    {
     "data": {
      "text/plain": "Date\n2020-01-03   -0.037295\n2020-01-06    0.005520\n2020-01-07   -0.007863\n2020-01-08    0.012670\n2020-01-09    0.019556\n                ...   \n2020-12-24    0.001937\n2020-12-28    0.011650\n2020-12-29    0.005983\n2020-12-30    0.028541\n2020-12-31   -0.003242\nLength: 252, dtype: float64"
     },
     "execution_count": 30,
     "metadata": {},
     "output_type": "execute_result"
    }
   ],
   "source": [
    "# calculate totally daily return\n",
    "ret_data = price_data.pct_change()[1:]\n",
    "daily_total_ret = ret_data.sum(axis=1)\n",
    "daily_total_ret"
   ],
   "metadata": {
    "collapsed": false,
    "pycharm": {
     "name": "#%%\n"
    }
   }
  },
  {
   "cell_type": "code",
   "execution_count": null,
   "outputs": [],
   "source": [
    "# calculate return based on our weight\n",
    "w = [0.1, 0.2, 0.25, 0.25, 0.2]\n",
    "weight_daily_return = (w*ret_data)\n",
    "weight_daily_total_ret = weight_daily_return.sum(axis=1)\n",
    "weight_daily_total_ret"
   ],
   "metadata": {
    "collapsed": false,
    "pycharm": {
     "name": "#%%\n"
    }
   }
  },
  {
   "cell_type": "code",
   "execution_count": null,
   "outputs": [],
   "source": [
    "#Plotting the weight return history\n",
    "fig, ax = plt.subplots(figsize=(15,8))\n",
    "for i in weight_daily_return.columns.values :\n",
    "    ax.plot(weight_daily_return[i], label = i)\n",
    "ax.legend( loc = 'upper right' , fontsize =10)\n",
    "ax.set_title(\"Weight Daily Return\")\n",
    "ax.set_xlabel('Date', fontsize=20)\n",
    "ax.set_ylabel('Daily simple returns' , fontsize=20)\n",
    "plt.show(fig)"
   ],
   "metadata": {
    "collapsed": false,
    "pycharm": {
     "name": "#%%\n"
    }
   }
  },
  {
   "cell_type": "code",
   "execution_count": null,
   "outputs": [],
   "source": [
    "def std_dev(data):\n",
    "    #get number of observation\n",
    "    n = len(data)\n",
    "    #calculate mean\n",
    "    mean = sum(data)/n\n",
    "    #calculate deviations from mean\n",
    "    deviations = sum([(x-mean)**2 for x in data])\n",
    "    #calculate variance&standard deviation\n",
    "    variance = deviations/(n-1)\n",
    "    s = variance**(1/2)\n",
    "    return s"
   ],
   "metadata": {
    "collapsed": false,
    "pycharm": {
     "name": "#%%\n"
    }
   }
  },
  {
   "cell_type": "code",
   "execution_count": null,
   "outputs": [],
   "source": [
    "def sharpe_ratio(data, risk_rate=0.0):\n",
    "    # Calculate average daily return\n",
    "    mean_daily_return = sum(data)/len(data)\n",
    "    # Calculate Standard Deviation\n",
    "    s = std_dev(data)\n",
    "    # Calculate Daily Sharpe Ratio\n",
    "    daily_sharpe_ratio = (mean_daily_return - risk_rate)/s\n",
    "    #Annualize Daily Sharpe Ratio\n",
    "    sharpe_ratio = 252**(1/2)*daily_sharpe_ratio\n",
    "    return sharpe_ratio"
   ],
   "metadata": {
    "collapsed": false,
    "pycharm": {
     "name": "#%%\n"
    }
   }
  },
  {
   "cell_type": "code",
   "execution_count": null,
   "outputs": [],
   "source": [
    "# calculate normal and weight sharp ratio\n",
    "sharpe_ratio(daily_total_ret)\n",
    "sharpe_ratio(weight_daily_total_ret)\n",
    "print(sharpe_ratio(daily_total_ret))\n",
    "print(sharpe_ratio(weight_daily_total_ret))"
   ],
   "metadata": {
    "collapsed": false,
    "pycharm": {
     "name": "#%%\n"
    }
   }
  },
  {
   "cell_type": "code",
   "execution_count": null,
   "outputs": [],
   "source": [
    "# calculate sp500 daily return\n",
    "sp500 = web.DataReader(['sp500'],'fred',start = '2016-01-01',end = '2020-12-31')\n",
    "sp500['daily-return']=(sp500['sp500']/sp500['sp500'].shift(1))-1\n",
    "sp500.dropna(inplace = True)\n",
    "sp500"
   ],
   "metadata": {
    "collapsed": false,
    "pycharm": {
     "name": "#%%\n"
    }
   }
  },
  {
   "cell_type": "code",
   "execution_count": null,
   "outputs": [],
   "source": [
    "#Plotting the weight return history\n",
    "x = sp500['daily-return']\n",
    "y1 = sp500['daily-return']\n",
    "y2 = weight_daily_total_ret\n",
    "plt.plot(x,y1,'s-',color = 'r',label=\"ATT-RLSTM\")#s-:方形\n",
    "plt.plot(x,y2,'o-',color = 'g',label=\"CNN-RLSTM\")#o-:圆形\n",
    "plt.xlabel(\"data\")\n",
    "plt.ylabel(\"return\")\n",
    "plt.legend(loc = \"best\")\n",
    "plt.show()\n"
   ],
   "metadata": {
    "collapsed": false,
    "pycharm": {
     "name": "#%%\n"
    }
   }
  },
  {
   "cell_type": "code",
   "execution_count": null,
   "outputs": [],
   "source": [
    "# calculate sp500 sharp ratio\n",
    "sp500['daily-return']\n",
    "sharpe_ratio(sp500['daily-return'])"
   ],
   "metadata": {
    "collapsed": false,
    "pycharm": {
     "name": "#%%\n"
    }
   }
  },
  {
   "cell_type": "markdown",
   "source": [],
   "metadata": {
    "collapsed": false
   }
  }
 ],
 "metadata": {
  "kernelspec": {
   "display_name": "Python 3",
   "language": "python",
   "name": "python3"
  },
  "language_info": {
   "codemirror_mode": {
    "name": "ipython",
    "version": 2
   },
   "file_extension": ".py",
   "mimetype": "text/x-python",
   "name": "python",
   "nbconvert_exporter": "python",
   "pygments_lexer": "ipython2",
   "version": "2.7.6"
  }
 },
 "nbformat": 4,
 "nbformat_minor": 0
}