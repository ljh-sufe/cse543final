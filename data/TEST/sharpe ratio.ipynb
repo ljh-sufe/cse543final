{
 "cells": [
  {
   "cell_type": "code",
   "execution_count": 2,
   "metadata": {
    "collapsed": true
   },
   "outputs": [],
   "source": [
    "import yfinance as yf\n",
    "import pandas as pd"
   ]
  },
  {
   "cell_type": "code",
   "execution_count": 9,
   "outputs": [],
   "source": [
    "def get_historical_data(ticker, start_date):\n",
    "    data = yf.download(ticker, start=start_date)\n",
    "    #daily return\n",
    "    data['Daily Return'] = data ['Adj Close'].pct_change()\n",
    "    return data.dropna()"
   ],
   "metadata": {
    "collapsed": false,
    "pycharm": {
     "name": "#%%\n"
    }
   }
  },
  {
   "cell_type": "code",
   "execution_count": 10,
   "outputs": [],
   "source": [
    "def std_dev(data):\n",
    "    #get number of observation\n",
    "    n=len(data)\n",
    "    #calculate mean\n",
    "    mean=sum(data)/n\n",
    "    #calculate deviations from mean\n",
    "    deviations = sum([(x-mean)**2 for x in data])\n",
    "    #calculate variance&standard deviation\n",
    "    variance = deviations/(n-1)\n",
    "    s = variance**(1/2)\n",
    "    return s"
   ],
   "metadata": {
    "collapsed": false,
    "pycharm": {
     "name": "#%%\n"
    }
   }
  },
  {
   "cell_type": "code",
   "execution_count": 11,
   "outputs": [],
   "source": [
    "def sharpe_ratio(data, risk_rate=0.0):\n",
    "    # Calculate average daily return\n",
    "    mean_daily_return = sum(data)/len(data)\n",
    "    # Calculate Standard Deviation\n",
    "    s = std_dev(data)\n",
    "    # Calculate Daily Sharpe Ratio\n",
    "    daily_sharpe_ratio = (mean_daily_return - risk_rate)/s\n",
    "    #Annualize Daily Sharpe Ratio\n",
    "    sharpe_ratio = 252**(1/2)*daily_sharpe_ratio\n",
    "    return sharpe_ratio"
   ],
   "metadata": {
    "collapsed": false,
    "pycharm": {
     "name": "#%%\n"
    }
   }
  },
  {
   "cell_type": "code",
   "execution_count": 12,
   "outputs": [
    {
     "name": "stdout",
     "output_type": "stream",
     "text": [
      "[*********************100%***********************]  1 of 1 completed\n"
     ]
    },
    {
     "data": {
      "text/plain": "1.019652554168167"
     },
     "execution_count": 12,
     "metadata": {},
     "output_type": "execute_result"
    }
   ],
   "source": [
    "AAPL = get_historical_data('AAPL', start_date='2020-01-01')\n",
    "sharpe_ratio(AAPL['Daily Return'])"
   ],
   "metadata": {
    "collapsed": false,
    "pycharm": {
     "name": "#%%\n"
    }
   }
  },
  {
   "cell_type": "code",
   "execution_count": null,
   "outputs": [],
   "source": [],
   "metadata": {
    "collapsed": false,
    "pycharm": {
     "name": "#%%\n"
    }
   }
  }
 ],
 "metadata": {
  "kernelspec": {
   "display_name": "Python 3",
   "language": "python",
   "name": "python3"
  },
  "language_info": {
   "codemirror_mode": {
    "name": "ipython",
    "version": 2
   },
   "file_extension": ".py",
   "mimetype": "text/x-python",
   "name": "python",
   "nbconvert_exporter": "python",
   "pygments_lexer": "ipython2",
   "version": "2.7.6"
  }
 },
 "nbformat": 4,
 "nbformat_minor": 0
}