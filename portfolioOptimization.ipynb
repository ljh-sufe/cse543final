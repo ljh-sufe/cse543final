{
 "cells": [
  {
   "cell_type": "code",
   "execution_count": 19,
   "metadata": {
    "collapsed": true
   },
   "outputs": [],
   "source": [
    "from getData import b, dateList\n",
    "import pandas as pd\n",
    "import cvxpy"
   ]
  },
  {
   "cell_type": "code",
   "execution_count": 8,
   "outputs": [],
   "source": [],
   "metadata": {
    "collapsed": false,
    "pycharm": {
     "name": "#%%\n"
    }
   }
  },
  {
   "cell_type": "code",
   "execution_count": 20,
   "outputs": [],
   "source": [
    "\n",
    "dateList = pd.date_range(\"2016-01-01\", \"2020-12-31\", freq=\"BM\")\n",
    "dateList = [x.__str__()[0:10] for x in dateList]"
   ],
   "metadata": {
    "collapsed": false,
    "pycharm": {
     "name": "#%%\n"
    }
   }
  },
  {
   "cell_type": "code",
   "execution_count": 21,
   "outputs": [
    {
     "data": {
      "text/plain": "['2016-01-29',\n '2016-02-29',\n '2016-03-31',\n '2016-04-29',\n '2016-05-31',\n '2016-06-30',\n '2016-07-29',\n '2016-08-31',\n '2016-09-30',\n '2016-10-31',\n '2016-11-30',\n '2016-12-30',\n '2017-01-31',\n '2017-02-28',\n '2017-03-31',\n '2017-04-28',\n '2017-05-31',\n '2017-06-30',\n '2017-07-31',\n '2017-08-31',\n '2017-09-29',\n '2017-10-31',\n '2017-11-30',\n '2017-12-29',\n '2018-01-31',\n '2018-02-28',\n '2018-03-30',\n '2018-04-30',\n '2018-05-31',\n '2018-06-29',\n '2018-07-31',\n '2018-08-31',\n '2018-09-28',\n '2018-10-31',\n '2018-11-30',\n '2018-12-31',\n '2019-01-31',\n '2019-02-28',\n '2019-03-29',\n '2019-04-30',\n '2019-05-31',\n '2019-06-28',\n '2019-07-31',\n '2019-08-30',\n '2019-09-30',\n '2019-10-31',\n '2019-11-29',\n '2019-12-31',\n '2020-01-31',\n '2020-02-28',\n '2020-03-31',\n '2020-04-30',\n '2020-05-29',\n '2020-06-30',\n '2020-07-31',\n '2020-08-31',\n '2020-09-30',\n '2020-10-30',\n '2020-11-30',\n '2020-12-31']"
     },
     "execution_count": 21,
     "metadata": {},
     "output_type": "execute_result"
    }
   ],
   "source": [
    "dateList"
   ],
   "metadata": {
    "collapsed": false,
    "pycharm": {
     "name": "#%%\n"
    }
   }
  },
  {
   "cell_type": "code",
   "execution_count": 26,
   "outputs": [
    {
     "data": {
      "text/plain": "                  SMA_daily_20  SMA_daily_60  SMA_daily_200  MOM_daily_20  \\\ntime       stock                                                            \n2020-01-31 AGN             NaN           NaN            NaN           NaN   \n           LOW        116.5535      114.1581       105.1492       -3.5639   \n           MA         311.9096      294.0066       272.6126       12.8166   \n           MAR        144.4380      142.0266       133.2467      -11.3843   \n           MAS         46.8463       45.8225        40.8188       -0.5964   \n           MCD        198.3769      189.1069       192.7506       12.4964   \n           MKC         81.2990       80.7720        77.5780       -2.0111   \n           MMC        109.0802      105.9523        97.8040        0.2432   \n           MMM        162.7311      159.5672       156.0828      -19.7346   \n           T           33.1528       32.9809        30.0651       -0.6284   \n2020-02-28 AGN             NaN           NaN            NaN           NaN   \n           LOW        116.6178      115.8930       106.1866      -12.7537   \n           MA         321.6207      307.9298       280.1815      -33.8649   \n           MAR        139.8702      143.6876       133.8847      -18.7373   \n           MAS         45.1815       45.9030        41.5341       -7.1710   \n           MCD        201.8765      195.1798       194.5050      -19.6832   \n           MKC         77.9347       80.3435        78.0129       -9.3400   \n           MMC        111.5102      108.9902        99.8751       -9.7256   \n           MMM        146.2103      156.1786       153.5207      -11.0018   \n           T           32.6839       32.9351        30.7316       -1.9126   \n\n                  MOM_daily_60  MOM_daily_200  ROC_daily_20  ROC_daily_60  \\\ntime       stock                                                            \n2020-01-31 AGN             NaN            NaN           NaN           NaN   \n           LOW          4.0054         1.3679       -3.0644        3.6838   \n           MA          39.5685        75.9770        4.2731       14.4842   \n           MAR         10.3276         5.7507       -7.5451        7.9952   \n           MAS          1.4411         7.2205       -1.2735        3.2170   \n           MCD         25.1396        24.2766        6.5641       14.1446   \n           MKC          2.6514         5.6920       -2.4831        3.4737   \n           MMC          9.2744        17.0252        0.2249        9.3602   \n           MMM        -13.6201       -48.6196      -11.8556       -8.4943   \n           T           -0.6540         5.7973       -1.8935       -1.9692   \n2020-02-28 AGN             NaN            NaN           NaN           NaN   \n           LOW         -8.6365         2.2982      -10.9840       -7.7115   \n           MA           4.1132        44.7769      -10.5437        1.4523   \n           MAR        -15.8688        -3.9092      -13.1271      -11.3455   \n           MAS         -4.2908         4.1959      -15.1366       -9.6432   \n           MCD          0.2276         0.8101       -9.6031        0.1230   \n           MKC        -10.8322        -3.2497      -11.6730      -13.2900   \n           MMC         -1.8881        10.5562       -8.7609       -1.8300   \n           MMM        -16.3285       -18.5144       -7.3207      -10.4931   \n           T           -1.3903         4.6828       -5.9044       -4.3622   \n\n                  ROC_daily_200  ROCR_daily_20  ROCR_daily_60  ROCR_daily_200  \\\ntime       stock                                                                \n2020-01-31 AGN              NaN            NaN            NaN             NaN   \n           LOW           1.2283         0.9694         1.0368          1.0123   \n           MA           32.0882         1.0427         1.1448          1.3209   \n           MAR           4.2996         0.9245         1.0800          1.0430   \n           MAS          18.5063         0.9873         1.0322          1.1851   \n           MCD          13.5931         1.0656         1.1414          1.1359   \n           MKC           7.7666         0.9752         1.0347          1.0777   \n           MMC          18.6411         1.0022         1.0936          1.1864   \n           MMM         -24.8893         0.8814         0.9151          0.7511   \n           T            21.6641         0.9811         0.9803          1.2166   \n2020-02-28 AGN              NaN            NaN            NaN             NaN   \n           LOW           2.2741         0.8902         0.9229          1.0227   \n           MA           18.4613         0.8946         1.0145          1.1846   \n           MAR          -3.0562         0.8687         0.8865          0.9694   \n           MAS          11.6524         0.8486         0.9036          1.1165   \n           MCD           0.4391         0.9040         1.0012          1.0044   \n           MKC          -4.3961         0.8833         0.8671          0.9560   \n           MMC          11.6348         0.9124         0.9817          1.1163   \n           MMM         -11.7331         0.9268         0.8951          0.8827   \n           T            18.1522         0.9410         0.9564          1.1815   \n\n                  MFI_daily_20  MFI_daily_60  MFI_daily_200  \ntime       stock                                             \n2020-01-31 AGN             NaN           NaN            NaN  \n           LOW         52.2870       55.5545        50.5789  \n           MA          63.6147       64.6100        58.8204  \n           MAR         32.6928       60.6785        51.6143  \n           MAS         45.8607       57.7966        53.7885  \n           MCD         72.7955       66.8428        54.1818  \n           MKC         41.9422       53.3908        52.9438  \n           MMC         53.8932       67.0811        54.4010  \n           MMM         35.7353       49.3978        46.5489  \n           T           49.1850       51.3691        54.5475  \n2020-02-28 AGN             NaN           NaN            NaN  \n           LOW         32.3966       43.4151        50.2616  \n           MA          35.6246       51.2170        54.9611  \n           MAR         37.4080       47.5540        50.8473  \n           MAS         21.1366       45.3059        51.6457  \n           MCD         30.7993       57.3387        51.5236  \n           MKC         20.3676       41.3058        49.6367  \n           MMC         48.4704       58.9089        54.9245  \n           MMM         45.4636       49.7911        51.0309  \n           T           38.7733       49.0969        54.1645  ",
      "text/html": "<div>\n<style scoped>\n    .dataframe tbody tr th:only-of-type {\n        vertical-align: middle;\n    }\n\n    .dataframe tbody tr th {\n        vertical-align: top;\n    }\n\n    .dataframe thead th {\n        text-align: right;\n    }\n</style>\n<table border=\"1\" class=\"dataframe\">\n  <thead>\n    <tr style=\"text-align: right;\">\n      <th></th>\n      <th></th>\n      <th>SMA_daily_20</th>\n      <th>SMA_daily_60</th>\n      <th>SMA_daily_200</th>\n      <th>MOM_daily_20</th>\n      <th>MOM_daily_60</th>\n      <th>MOM_daily_200</th>\n      <th>ROC_daily_20</th>\n      <th>ROC_daily_60</th>\n      <th>ROC_daily_200</th>\n      <th>ROCR_daily_20</th>\n      <th>ROCR_daily_60</th>\n      <th>ROCR_daily_200</th>\n      <th>MFI_daily_20</th>\n      <th>MFI_daily_60</th>\n      <th>MFI_daily_200</th>\n    </tr>\n    <tr>\n      <th>time</th>\n      <th>stock</th>\n      <th></th>\n      <th></th>\n      <th></th>\n      <th></th>\n      <th></th>\n      <th></th>\n      <th></th>\n      <th></th>\n      <th></th>\n      <th></th>\n      <th></th>\n      <th></th>\n      <th></th>\n      <th></th>\n      <th></th>\n    </tr>\n  </thead>\n  <tbody>\n    <tr>\n      <th rowspan=\"10\" valign=\"top\">2020-01-31</th>\n      <th>AGN</th>\n      <td>NaN</td>\n      <td>NaN</td>\n      <td>NaN</td>\n      <td>NaN</td>\n      <td>NaN</td>\n      <td>NaN</td>\n      <td>NaN</td>\n      <td>NaN</td>\n      <td>NaN</td>\n      <td>NaN</td>\n      <td>NaN</td>\n      <td>NaN</td>\n      <td>NaN</td>\n      <td>NaN</td>\n      <td>NaN</td>\n    </tr>\n    <tr>\n      <th>LOW</th>\n      <td>116.5535</td>\n      <td>114.1581</td>\n      <td>105.1492</td>\n      <td>-3.5639</td>\n      <td>4.0054</td>\n      <td>1.3679</td>\n      <td>-3.0644</td>\n      <td>3.6838</td>\n      <td>1.2283</td>\n      <td>0.9694</td>\n      <td>1.0368</td>\n      <td>1.0123</td>\n      <td>52.2870</td>\n      <td>55.5545</td>\n      <td>50.5789</td>\n    </tr>\n    <tr>\n      <th>MA</th>\n      <td>311.9096</td>\n      <td>294.0066</td>\n      <td>272.6126</td>\n      <td>12.8166</td>\n      <td>39.5685</td>\n      <td>75.9770</td>\n      <td>4.2731</td>\n      <td>14.4842</td>\n      <td>32.0882</td>\n      <td>1.0427</td>\n      <td>1.1448</td>\n      <td>1.3209</td>\n      <td>63.6147</td>\n      <td>64.6100</td>\n      <td>58.8204</td>\n    </tr>\n    <tr>\n      <th>MAR</th>\n      <td>144.4380</td>\n      <td>142.0266</td>\n      <td>133.2467</td>\n      <td>-11.3843</td>\n      <td>10.3276</td>\n      <td>5.7507</td>\n      <td>-7.5451</td>\n      <td>7.9952</td>\n      <td>4.2996</td>\n      <td>0.9245</td>\n      <td>1.0800</td>\n      <td>1.0430</td>\n      <td>32.6928</td>\n      <td>60.6785</td>\n      <td>51.6143</td>\n    </tr>\n    <tr>\n      <th>MAS</th>\n      <td>46.8463</td>\n      <td>45.8225</td>\n      <td>40.8188</td>\n      <td>-0.5964</td>\n      <td>1.4411</td>\n      <td>7.2205</td>\n      <td>-1.2735</td>\n      <td>3.2170</td>\n      <td>18.5063</td>\n      <td>0.9873</td>\n      <td>1.0322</td>\n      <td>1.1851</td>\n      <td>45.8607</td>\n      <td>57.7966</td>\n      <td>53.7885</td>\n    </tr>\n    <tr>\n      <th>MCD</th>\n      <td>198.3769</td>\n      <td>189.1069</td>\n      <td>192.7506</td>\n      <td>12.4964</td>\n      <td>25.1396</td>\n      <td>24.2766</td>\n      <td>6.5641</td>\n      <td>14.1446</td>\n      <td>13.5931</td>\n      <td>1.0656</td>\n      <td>1.1414</td>\n      <td>1.1359</td>\n      <td>72.7955</td>\n      <td>66.8428</td>\n      <td>54.1818</td>\n    </tr>\n    <tr>\n      <th>MKC</th>\n      <td>81.2990</td>\n      <td>80.7720</td>\n      <td>77.5780</td>\n      <td>-2.0111</td>\n      <td>2.6514</td>\n      <td>5.6920</td>\n      <td>-2.4831</td>\n      <td>3.4737</td>\n      <td>7.7666</td>\n      <td>0.9752</td>\n      <td>1.0347</td>\n      <td>1.0777</td>\n      <td>41.9422</td>\n      <td>53.3908</td>\n      <td>52.9438</td>\n    </tr>\n    <tr>\n      <th>MMC</th>\n      <td>109.0802</td>\n      <td>105.9523</td>\n      <td>97.8040</td>\n      <td>0.2432</td>\n      <td>9.2744</td>\n      <td>17.0252</td>\n      <td>0.2249</td>\n      <td>9.3602</td>\n      <td>18.6411</td>\n      <td>1.0022</td>\n      <td>1.0936</td>\n      <td>1.1864</td>\n      <td>53.8932</td>\n      <td>67.0811</td>\n      <td>54.4010</td>\n    </tr>\n    <tr>\n      <th>MMM</th>\n      <td>162.7311</td>\n      <td>159.5672</td>\n      <td>156.0828</td>\n      <td>-19.7346</td>\n      <td>-13.6201</td>\n      <td>-48.6196</td>\n      <td>-11.8556</td>\n      <td>-8.4943</td>\n      <td>-24.8893</td>\n      <td>0.8814</td>\n      <td>0.9151</td>\n      <td>0.7511</td>\n      <td>35.7353</td>\n      <td>49.3978</td>\n      <td>46.5489</td>\n    </tr>\n    <tr>\n      <th>T</th>\n      <td>33.1528</td>\n      <td>32.9809</td>\n      <td>30.0651</td>\n      <td>-0.6284</td>\n      <td>-0.6540</td>\n      <td>5.7973</td>\n      <td>-1.8935</td>\n      <td>-1.9692</td>\n      <td>21.6641</td>\n      <td>0.9811</td>\n      <td>0.9803</td>\n      <td>1.2166</td>\n      <td>49.1850</td>\n      <td>51.3691</td>\n      <td>54.5475</td>\n    </tr>\n    <tr>\n      <th rowspan=\"10\" valign=\"top\">2020-02-28</th>\n      <th>AGN</th>\n      <td>NaN</td>\n      <td>NaN</td>\n      <td>NaN</td>\n      <td>NaN</td>\n      <td>NaN</td>\n      <td>NaN</td>\n      <td>NaN</td>\n      <td>NaN</td>\n      <td>NaN</td>\n      <td>NaN</td>\n      <td>NaN</td>\n      <td>NaN</td>\n      <td>NaN</td>\n      <td>NaN</td>\n      <td>NaN</td>\n    </tr>\n    <tr>\n      <th>LOW</th>\n      <td>116.6178</td>\n      <td>115.8930</td>\n      <td>106.1866</td>\n      <td>-12.7537</td>\n      <td>-8.6365</td>\n      <td>2.2982</td>\n      <td>-10.9840</td>\n      <td>-7.7115</td>\n      <td>2.2741</td>\n      <td>0.8902</td>\n      <td>0.9229</td>\n      <td>1.0227</td>\n      <td>32.3966</td>\n      <td>43.4151</td>\n      <td>50.2616</td>\n    </tr>\n    <tr>\n      <th>MA</th>\n      <td>321.6207</td>\n      <td>307.9298</td>\n      <td>280.1815</td>\n      <td>-33.8649</td>\n      <td>4.1132</td>\n      <td>44.7769</td>\n      <td>-10.5437</td>\n      <td>1.4523</td>\n      <td>18.4613</td>\n      <td>0.8946</td>\n      <td>1.0145</td>\n      <td>1.1846</td>\n      <td>35.6246</td>\n      <td>51.2170</td>\n      <td>54.9611</td>\n    </tr>\n    <tr>\n      <th>MAR</th>\n      <td>139.8702</td>\n      <td>143.6876</td>\n      <td>133.8847</td>\n      <td>-18.7373</td>\n      <td>-15.8688</td>\n      <td>-3.9092</td>\n      <td>-13.1271</td>\n      <td>-11.3455</td>\n      <td>-3.0562</td>\n      <td>0.8687</td>\n      <td>0.8865</td>\n      <td>0.9694</td>\n      <td>37.4080</td>\n      <td>47.5540</td>\n      <td>50.8473</td>\n    </tr>\n    <tr>\n      <th>MAS</th>\n      <td>45.1815</td>\n      <td>45.9030</td>\n      <td>41.5341</td>\n      <td>-7.1710</td>\n      <td>-4.2908</td>\n      <td>4.1959</td>\n      <td>-15.1366</td>\n      <td>-9.6432</td>\n      <td>11.6524</td>\n      <td>0.8486</td>\n      <td>0.9036</td>\n      <td>1.1165</td>\n      <td>21.1366</td>\n      <td>45.3059</td>\n      <td>51.6457</td>\n    </tr>\n    <tr>\n      <th>MCD</th>\n      <td>201.8765</td>\n      <td>195.1798</td>\n      <td>194.5050</td>\n      <td>-19.6832</td>\n      <td>0.2276</td>\n      <td>0.8101</td>\n      <td>-9.6031</td>\n      <td>0.1230</td>\n      <td>0.4391</td>\n      <td>0.9040</td>\n      <td>1.0012</td>\n      <td>1.0044</td>\n      <td>30.7993</td>\n      <td>57.3387</td>\n      <td>51.5236</td>\n    </tr>\n    <tr>\n      <th>MKC</th>\n      <td>77.9347</td>\n      <td>80.3435</td>\n      <td>78.0129</td>\n      <td>-9.3400</td>\n      <td>-10.8322</td>\n      <td>-3.2497</td>\n      <td>-11.6730</td>\n      <td>-13.2900</td>\n      <td>-4.3961</td>\n      <td>0.8833</td>\n      <td>0.8671</td>\n      <td>0.9560</td>\n      <td>20.3676</td>\n      <td>41.3058</td>\n      <td>49.6367</td>\n    </tr>\n    <tr>\n      <th>MMC</th>\n      <td>111.5102</td>\n      <td>108.9902</td>\n      <td>99.8751</td>\n      <td>-9.7256</td>\n      <td>-1.8881</td>\n      <td>10.5562</td>\n      <td>-8.7609</td>\n      <td>-1.8300</td>\n      <td>11.6348</td>\n      <td>0.9124</td>\n      <td>0.9817</td>\n      <td>1.1163</td>\n      <td>48.4704</td>\n      <td>58.9089</td>\n      <td>54.9245</td>\n    </tr>\n    <tr>\n      <th>MMM</th>\n      <td>146.2103</td>\n      <td>156.1786</td>\n      <td>153.5207</td>\n      <td>-11.0018</td>\n      <td>-16.3285</td>\n      <td>-18.5144</td>\n      <td>-7.3207</td>\n      <td>-10.4931</td>\n      <td>-11.7331</td>\n      <td>0.9268</td>\n      <td>0.8951</td>\n      <td>0.8827</td>\n      <td>45.4636</td>\n      <td>49.7911</td>\n      <td>51.0309</td>\n    </tr>\n    <tr>\n      <th>T</th>\n      <td>32.6839</td>\n      <td>32.9351</td>\n      <td>30.7316</td>\n      <td>-1.9126</td>\n      <td>-1.3903</td>\n      <td>4.6828</td>\n      <td>-5.9044</td>\n      <td>-4.3622</td>\n      <td>18.1522</td>\n      <td>0.9410</td>\n      <td>0.9564</td>\n      <td>1.1815</td>\n      <td>38.7733</td>\n      <td>49.0969</td>\n      <td>54.1645</td>\n    </tr>\n  </tbody>\n</table>\n</div>"
     },
     "execution_count": 26,
     "metadata": {},
     "output_type": "execute_result"
    }
   ],
   "source": [
    "b.loc[\"2020-01-01\": \"2020-02-31\"]"
   ],
   "metadata": {
    "collapsed": false,
    "pycharm": {
     "name": "#%%\n"
    }
   }
  },
  {
   "cell_type": "code",
   "execution_count": null,
   "outputs": [],
   "source": [
    "\n",
    "a = \"2020-01-01\"\n",
    "str(int(a[0:4])-3) + a[4:10]\n",
    "\n",
    "import datetime\n",
    "\n",
    "str(date0 - datetime.timedelta(year=3))"
   ],
   "metadata": {
    "collapsed": false,
    "pycharm": {
     "name": "#%%\n"
    }
   }
  },
  {
   "cell_type": "code",
   "execution_count": 5,
   "outputs": [
    {
     "ename": "NameError",
     "evalue": "name 'alist' is not defined",
     "output_type": "error",
     "traceback": [
      "\u001B[0;31m---------------------------------------------------------------------------\u001B[0m",
      "\u001B[0;31mNameError\u001B[0m                                 Traceback (most recent call last)",
      "\u001B[0;32m/var/folders/gd/x1f5r0jn0mlg0x1jfhz947z40000gn/T/ipykernel_23679/3851119657.py\u001B[0m in \u001B[0;36m<module>\u001B[0;34m\u001B[0m\n\u001B[1;32m      1\u001B[0m \u001B[0mb\u001B[0m  \u001B[0;31m# x\u001B[0m\u001B[0;34m\u001B[0m\u001B[0;34m\u001B[0m\u001B[0m\n\u001B[0;32m----> 2\u001B[0;31m \u001B[0;32mfor\u001B[0m \u001B[0mdate\u001B[0m \u001B[0;32min\u001B[0m \u001B[0malist\u001B[0m\u001B[0;34m:\u001B[0m\u001B[0;34m\u001B[0m\u001B[0;34m\u001B[0m\u001B[0m\n\u001B[0m\u001B[1;32m      3\u001B[0m     \u001B[0mx\u001B[0m \u001B[0;34m=\u001B[0m \u001B[0mb\u001B[0m\u001B[0;34m.\u001B[0m\u001B[0mloc\u001B[0m\u001B[0;34m[\u001B[0m\u001B[0mdate\u001B[0m\u001B[0;34m-\u001B[0m\u001B[0;36m3\u001B[0m\u001B[0;34m*\u001B[0m\u001B[0myear\u001B[0m \u001B[0;34m:\u001B[0m \u001B[0mdate\u001B[0m\u001B[0;34m-\u001B[0m\u001B[0;36m1\u001B[0m\u001B[0;34m]\u001B[0m\u001B[0;34m\u001B[0m\u001B[0;34m\u001B[0m\u001B[0m\n\u001B[1;32m      4\u001B[0m     \u001B[0my\u001B[0m \u001B[0;34m=\u001B[0m \u001B[0mreturn_\u001B[0m\u001B[0;34m\u001B[0m\u001B[0;34m\u001B[0m\u001B[0m\n\u001B[1;32m      5\u001B[0m     \u001B[0mx_\u001B[0m \u001B[0;34m=\u001B[0m \u001B[0mb\u001B[0m\u001B[0;34m.\u001B[0m\u001B[0mloc\u001B[0m\u001B[0;34m[\u001B[0m\u001B[0mdate\u001B[0m\u001B[0;34m]\u001B[0m\u001B[0;34m\u001B[0m\u001B[0;34m\u001B[0m\u001B[0m\n",
      "\u001B[0;31mNameError\u001B[0m: name 'alist' is not defined"
     ]
    }
   ],
   "source": [
    "b  # x\n",
    "for date in dateList:\n",
    "    # we are now at 2020.01.30\n",
    "    # example: date = 2020.01.31\n",
    "    x = b.loc[date - 3 * year: date - 1]  # 2017.01 to 2019.12\n",
    "    y = stockreturn_  # 2017.02 to 2020.01\n",
    "    x_ = b.loc[date]  # 2020.01.31\n",
    "    # run a regression\n",
    "    y_hat = fit(x, y).predict(x_)  # the expect return of 2020.02\n",
    "\n",
    "    covmatrix\n",
    "\n",
    "    # maximize    w * y_hat - riskAverse * w.T.dot(covmatrix).dot(w)\n",
    "    # s.t.        sum    w = 1\n",
    "\n",
    "    w = [0.1 for x in range(10)]\n",
    "\n",
    "\n",
    "    # have w\n",
    "    # actual portfolio return    when time = 2020.2, we can know the ture return of each stock r\n",
    "    apr = w * r\n",
    "    # sp500 return  we can also know the true return of sp500\n",
    "    sp500r"
   ],
   "metadata": {
    "collapsed": false,
    "pycharm": {
     "name": "#%%\n"
    }
   }
  }
 ],
 "metadata": {
  "kernelspec": {
   "display_name": "Python 3",
   "language": "python",
   "name": "python3"
  },
  "language_info": {
   "codemirror_mode": {
    "name": "ipython",
    "version": 2
   },
   "file_extension": ".py",
   "mimetype": "text/x-python",
   "name": "python",
   "nbconvert_exporter": "python",
   "pygments_lexer": "ipython2",
   "version": "2.7.6"
  }
 },
 "nbformat": 4,
 "nbformat_minor": 0
}