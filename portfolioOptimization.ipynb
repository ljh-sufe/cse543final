{
 "cells": [
  {
   "cell_type": "code",
   "execution_count": 19,
   "metadata": {
    "collapsed": true
   },
   "outputs": [],
   "source": [
    "from getData import b, dateList\n",
    "import pandas as pd\n",
    "import cvxpy"
   ]
  },
  {
   "cell_type": "code",
   "execution_count": 8,
   "outputs": [],
   "source": [],
   "metadata": {
    "collapsed": false,
    "pycharm": {
     "name": "#%%\n"
    }
   }
  },
  {
   "cell_type": "code",
   "execution_count": 20,
   "outputs": [],
   "source": [
    "\n",
    "dateList = pd.date_range(\"2016-01-01\", \"2020-12-31\", freq=\"BM\")\n",
    "dateList = [x.__str__()[0:10] for x in dateList]"
   ],
   "metadata": {
    "collapsed": false,
    "pycharm": {
     "name": "#%%\n"
    }
   }
  },
  {
   "cell_type": "code",
   "execution_count": 21,
   "outputs": [
    {
     "data": {
      "text/plain": "['2016-01-29',\n '2016-02-29',\n '2016-03-31',\n '2016-04-29',\n '2016-05-31',\n '2016-06-30',\n '2016-07-29',\n '2016-08-31',\n '2016-09-30',\n '2016-10-31',\n '2016-11-30',\n '2016-12-30',\n '2017-01-31',\n '2017-02-28',\n '2017-03-31',\n '2017-04-28',\n '2017-05-31',\n '2017-06-30',\n '2017-07-31',\n '2017-08-31',\n '2017-09-29',\n '2017-10-31',\n '2017-11-30',\n '2017-12-29',\n '2018-01-31',\n '2018-02-28',\n '2018-03-30',\n '2018-04-30',\n '2018-05-31',\n '2018-06-29',\n '2018-07-31',\n '2018-08-31',\n '2018-09-28',\n '2018-10-31',\n '2018-11-30',\n '2018-12-31',\n '2019-01-31',\n '2019-02-28',\n '2019-03-29',\n '2019-04-30',\n '2019-05-31',\n '2019-06-28',\n '2019-07-31',\n '2019-08-30',\n '2019-09-30',\n '2019-10-31',\n '2019-11-29',\n '2019-12-31',\n '2020-01-31',\n '2020-02-28',\n '2020-03-31',\n '2020-04-30',\n '2020-05-29',\n '2020-06-30',\n '2020-07-31',\n '2020-08-31',\n '2020-09-30',\n '2020-10-30',\n '2020-11-30',\n '2020-12-31']"
     },
     "execution_count": 21,
     "metadata": {},
     "output_type": "execute_result"
    }
   ],
   "source": [
    "dateList"
   ],
   "metadata": {
    "collapsed": false,
    "pycharm": {
     "name": "#%%\n"
    }
   }
  },
  {
   "cell_type": "code",
   "execution_count": 23,
   "outputs": [
    {
     "data": {
      "text/plain": "'2017-01-01'"
     },
     "execution_count": 23,
     "metadata": {},
     "output_type": "execute_result"
    }
   ],
   "source": [
    "b.loc[\"2020-01-01\": \"2020-02-31\"]\n",
    "a = \"2020-01-01\"\n",
    "str(int(a[0:4])-3) + a[4:10]\n",
    "\n",
    "import datetime\n",
    "\n",
    "str(date0 - datetime.timedelta(year=3))"
   ],
   "metadata": {
    "collapsed": false,
    "pycharm": {
     "name": "#%%\n"
    }
   }
  },
  {
   "cell_type": "code",
   "execution_count": 5,
   "outputs": [
    {
     "ename": "NameError",
     "evalue": "name 'alist' is not defined",
     "output_type": "error",
     "traceback": [
      "\u001B[0;31m---------------------------------------------------------------------------\u001B[0m",
      "\u001B[0;31mNameError\u001B[0m                                 Traceback (most recent call last)",
      "\u001B[0;32m/var/folders/gd/x1f5r0jn0mlg0x1jfhz947z40000gn/T/ipykernel_23679/3851119657.py\u001B[0m in \u001B[0;36m<module>\u001B[0;34m\u001B[0m\n\u001B[1;32m      1\u001B[0m \u001B[0mb\u001B[0m  \u001B[0;31m# x\u001B[0m\u001B[0;34m\u001B[0m\u001B[0;34m\u001B[0m\u001B[0m\n\u001B[0;32m----> 2\u001B[0;31m \u001B[0;32mfor\u001B[0m \u001B[0mdate\u001B[0m \u001B[0;32min\u001B[0m \u001B[0malist\u001B[0m\u001B[0;34m:\u001B[0m\u001B[0;34m\u001B[0m\u001B[0;34m\u001B[0m\u001B[0m\n\u001B[0m\u001B[1;32m      3\u001B[0m     \u001B[0mx\u001B[0m \u001B[0;34m=\u001B[0m \u001B[0mb\u001B[0m\u001B[0;34m.\u001B[0m\u001B[0mloc\u001B[0m\u001B[0;34m[\u001B[0m\u001B[0mdate\u001B[0m\u001B[0;34m-\u001B[0m\u001B[0;36m3\u001B[0m\u001B[0;34m*\u001B[0m\u001B[0myear\u001B[0m \u001B[0;34m:\u001B[0m \u001B[0mdate\u001B[0m\u001B[0;34m-\u001B[0m\u001B[0;36m1\u001B[0m\u001B[0;34m]\u001B[0m\u001B[0;34m\u001B[0m\u001B[0;34m\u001B[0m\u001B[0m\n\u001B[1;32m      4\u001B[0m     \u001B[0my\u001B[0m \u001B[0;34m=\u001B[0m \u001B[0mreturn_\u001B[0m\u001B[0;34m\u001B[0m\u001B[0;34m\u001B[0m\u001B[0m\n\u001B[1;32m      5\u001B[0m     \u001B[0mx_\u001B[0m \u001B[0;34m=\u001B[0m \u001B[0mb\u001B[0m\u001B[0;34m.\u001B[0m\u001B[0mloc\u001B[0m\u001B[0;34m[\u001B[0m\u001B[0mdate\u001B[0m\u001B[0;34m]\u001B[0m\u001B[0;34m\u001B[0m\u001B[0;34m\u001B[0m\u001B[0m\n",
      "\u001B[0;31mNameError\u001B[0m: name 'alist' is not defined"
     ]
    }
   ],
   "source": [
    "b  # x\n",
    "for date in dateList:\n",
    "    # we are now at 2020.01.30\n",
    "    # example: date = 2020.01.31\n",
    "    x = b.loc[date - 3 * year: date - 1]  # 2017.01 to 2019.12\n",
    "    y = stockreturn_  # 2017.02 to 2020.01\n",
    "    x_ = b.loc[date]  # 2020.01.31\n",
    "    # run a regression\n",
    "    y_hat = fit(x, y).predict(x_)  # the expect return of 2020.02\n",
    "\n",
    "    covmatrix\n",
    "\n",
    "    # maximize    w * y_hat - riskAverse * w.T.dot(covmatrix).dot(w)\n",
    "    # s.t.        sum    w = 1\n",
    "\n",
    "    # have w\n",
    "    # actual portfolio return    when time = 2020.2, we can know the ture return of each stock r\n",
    "    apr = w * r\n",
    "    # sp500 return  we can also know the true return of sp500\n",
    "    sp500r\n"
   ],
   "metadata": {
    "collapsed": false,
    "pycharm": {
     "name": "#%%\n"
    }
   }
  }
 ],
 "metadata": {
  "kernelspec": {
   "display_name": "Python 3",
   "language": "python",
   "name": "python3"
  },
  "language_info": {
   "codemirror_mode": {
    "name": "ipython",
    "version": 2
   },
   "file_extension": ".py",
   "mimetype": "text/x-python",
   "name": "python",
   "nbconvert_exporter": "python",
   "pygments_lexer": "ipython2",
   "version": "2.7.6"
  }
 },
 "nbformat": 4,
 "nbformat_minor": 0
}