{
 "cells": [
  {
   "cell_type": "code",
   "execution_count": 3,
   "metadata": {
    "collapsed": true
   },
   "outputs": [],
   "source": [
    "from getData import b"
   ]
  },
  {
   "cell_type": "code",
   "execution_count": 4,
   "outputs": [
    {
     "data": {
      "text/plain": "                  SMA_monthly_10  EMA_monthly_10  WMA_monthly_10  \\\ntime       stock                                                   \n2000-01-31 ABK               NaN             NaN             NaN   \n           ABS               NaN             NaN             NaN   \n           ACE               NaN             NaN             NaN   \n           ADS               NaN             NaN             NaN   \n           AGN               NaN             NaN             NaN   \n...                          ...             ...             ...   \n2022-04-04 YUM          124.8745        120.8813        123.3857   \n           ZBH          131.8079        130.7122        126.7990   \n           ZBRA         514.0400        477.0540        487.8225   \n           ZION          62.5642         62.1958         64.7258   \n           ZTS          205.1658        196.4512        202.8539   \n\n                  DEMA_monthly_10  TEMA_monthly_10  TRIMA_monthly_10  \\\ntime       stock                                                       \n2000-01-31 ABK                NaN              NaN               NaN   \n           ABS                NaN              NaN               NaN   \n           ACE                NaN              NaN               NaN   \n           ADS                NaN              NaN               NaN   \n           AGN                NaN              NaN               NaN   \n...                           ...              ...               ...   \n2022-04-04 YUM           124.5539         121.5066          125.7433   \n           ZBH           124.1879         120.1673          128.2974   \n           ZBRA          477.6502         434.9329          528.7973   \n           ZION           68.2256          68.0702           63.4798   \n           ZTS           203.8216         196.2839          210.8973   \n\n                  KAMA_monthly_10  MAMA_monthly_10  HT_TRENDLINE_monthly_10  \ntime       stock                                                             \n2000-01-31 ABK                NaN              NaN                      NaN  \n           ABS                NaN              NaN                      NaN  \n           ACE                NaN              NaN                      NaN  \n           ADS                NaN              NaN                      NaN  \n           AGN                NaN              NaN                      NaN  \n...                           ...              ...                      ...  \n2022-04-04 YUM           119.5085          60.7708                      NaN  \n           ZBH           135.1371          91.7334                      NaN  \n           ZBRA          527.8614         159.3978                      NaN  \n           ZION           61.9970          34.6790                      NaN  \n           ZTS           206.3733          68.8601                      NaN  \n\n[168524 rows x 9 columns]",
      "text/html": "<div>\n<style scoped>\n    .dataframe tbody tr th:only-of-type {\n        vertical-align: middle;\n    }\n\n    .dataframe tbody tr th {\n        vertical-align: top;\n    }\n\n    .dataframe thead th {\n        text-align: right;\n    }\n</style>\n<table border=\"1\" class=\"dataframe\">\n  <thead>\n    <tr style=\"text-align: right;\">\n      <th></th>\n      <th></th>\n      <th>SMA_monthly_10</th>\n      <th>EMA_monthly_10</th>\n      <th>WMA_monthly_10</th>\n      <th>DEMA_monthly_10</th>\n      <th>TEMA_monthly_10</th>\n      <th>TRIMA_monthly_10</th>\n      <th>KAMA_monthly_10</th>\n      <th>MAMA_monthly_10</th>\n      <th>HT_TRENDLINE_monthly_10</th>\n    </tr>\n    <tr>\n      <th>time</th>\n      <th>stock</th>\n      <th></th>\n      <th></th>\n      <th></th>\n      <th></th>\n      <th></th>\n      <th></th>\n      <th></th>\n      <th></th>\n      <th></th>\n    </tr>\n  </thead>\n  <tbody>\n    <tr>\n      <th rowspan=\"5\" valign=\"top\">2000-01-31</th>\n      <th>ABK</th>\n      <td>NaN</td>\n      <td>NaN</td>\n      <td>NaN</td>\n      <td>NaN</td>\n      <td>NaN</td>\n      <td>NaN</td>\n      <td>NaN</td>\n      <td>NaN</td>\n      <td>NaN</td>\n    </tr>\n    <tr>\n      <th>ABS</th>\n      <td>NaN</td>\n      <td>NaN</td>\n      <td>NaN</td>\n      <td>NaN</td>\n      <td>NaN</td>\n      <td>NaN</td>\n      <td>NaN</td>\n      <td>NaN</td>\n      <td>NaN</td>\n    </tr>\n    <tr>\n      <th>ACE</th>\n      <td>NaN</td>\n      <td>NaN</td>\n      <td>NaN</td>\n      <td>NaN</td>\n      <td>NaN</td>\n      <td>NaN</td>\n      <td>NaN</td>\n      <td>NaN</td>\n      <td>NaN</td>\n    </tr>\n    <tr>\n      <th>ADS</th>\n      <td>NaN</td>\n      <td>NaN</td>\n      <td>NaN</td>\n      <td>NaN</td>\n      <td>NaN</td>\n      <td>NaN</td>\n      <td>NaN</td>\n      <td>NaN</td>\n      <td>NaN</td>\n    </tr>\n    <tr>\n      <th>AGN</th>\n      <td>NaN</td>\n      <td>NaN</td>\n      <td>NaN</td>\n      <td>NaN</td>\n      <td>NaN</td>\n      <td>NaN</td>\n      <td>NaN</td>\n      <td>NaN</td>\n      <td>NaN</td>\n    </tr>\n    <tr>\n      <th>...</th>\n      <th>...</th>\n      <td>...</td>\n      <td>...</td>\n      <td>...</td>\n      <td>...</td>\n      <td>...</td>\n      <td>...</td>\n      <td>...</td>\n      <td>...</td>\n      <td>...</td>\n    </tr>\n    <tr>\n      <th rowspan=\"5\" valign=\"top\">2022-04-04</th>\n      <th>YUM</th>\n      <td>124.8745</td>\n      <td>120.8813</td>\n      <td>123.3857</td>\n      <td>124.5539</td>\n      <td>121.5066</td>\n      <td>125.7433</td>\n      <td>119.5085</td>\n      <td>60.7708</td>\n      <td>NaN</td>\n    </tr>\n    <tr>\n      <th>ZBH</th>\n      <td>131.8079</td>\n      <td>130.7122</td>\n      <td>126.7990</td>\n      <td>124.1879</td>\n      <td>120.1673</td>\n      <td>128.2974</td>\n      <td>135.1371</td>\n      <td>91.7334</td>\n      <td>NaN</td>\n    </tr>\n    <tr>\n      <th>ZBRA</th>\n      <td>514.0400</td>\n      <td>477.0540</td>\n      <td>487.8225</td>\n      <td>477.6502</td>\n      <td>434.9329</td>\n      <td>528.7973</td>\n      <td>527.8614</td>\n      <td>159.3978</td>\n      <td>NaN</td>\n    </tr>\n    <tr>\n      <th>ZION</th>\n      <td>62.5642</td>\n      <td>62.1958</td>\n      <td>64.7258</td>\n      <td>68.2256</td>\n      <td>68.0702</td>\n      <td>63.4798</td>\n      <td>61.9970</td>\n      <td>34.6790</td>\n      <td>NaN</td>\n    </tr>\n    <tr>\n      <th>ZTS</th>\n      <td>205.1658</td>\n      <td>196.4512</td>\n      <td>202.8539</td>\n      <td>203.8216</td>\n      <td>196.2839</td>\n      <td>210.8973</td>\n      <td>206.3733</td>\n      <td>68.8601</td>\n      <td>NaN</td>\n    </tr>\n  </tbody>\n</table>\n<p>168524 rows × 9 columns</p>\n</div>"
     },
     "execution_count": 4,
     "metadata": {},
     "output_type": "execute_result"
    }
   ],
   "source": [
    "b"
   ],
   "metadata": {
    "collapsed": false,
    "pycharm": {
     "name": "#%%\n"
    }
   }
  },
  {
   "cell_type": "code",
   "execution_count": 1,
   "outputs": [],
   "source": [
    "a=3"
   ],
   "metadata": {
    "collapsed": false,
    "pycharm": {
     "name": "#%%\n"
    }
   }
  },
  {
   "cell_type": "code",
   "execution_count": 3,
   "outputs": [],
   "source": [
    "b=3"
   ],
   "metadata": {
    "collapsed": false,
    "pycharm": {
     "name": "#%%\n"
    }
   }
  },
  {
   "cell_type": "code",
   "execution_count": 4,
   "outputs": [
    {
     "name": "stdout",
     "output_type": "stream",
     "text": [
      "6\n"
     ]
    }
   ],
   "source": [
    "print(a+b)"
   ],
   "metadata": {
    "collapsed": false,
    "pycharm": {
     "name": "#%%\n"
    }
   }
  },
  {
   "cell_type": "code",
   "execution_count": null,
   "outputs": [],
   "source": [],
   "metadata": {
    "collapsed": false,
    "pycharm": {
     "name": "#%%\n"
    }
   }
  },
  {
   "cell_type": "code",
   "execution_count": 5,
   "outputs": [
    {
     "ename": "NameError",
     "evalue": "name 'alist' is not defined",
     "output_type": "error",
     "traceback": [
      "\u001B[0;31m---------------------------------------------------------------------------\u001B[0m",
      "\u001B[0;31mNameError\u001B[0m                                 Traceback (most recent call last)",
      "\u001B[0;32m/var/folders/gd/x1f5r0jn0mlg0x1jfhz947z40000gn/T/ipykernel_23679/3851119657.py\u001B[0m in \u001B[0;36m<module>\u001B[0;34m\u001B[0m\n\u001B[1;32m      1\u001B[0m \u001B[0mb\u001B[0m  \u001B[0;31m# x\u001B[0m\u001B[0;34m\u001B[0m\u001B[0;34m\u001B[0m\u001B[0m\n\u001B[0;32m----> 2\u001B[0;31m \u001B[0;32mfor\u001B[0m \u001B[0mdate\u001B[0m \u001B[0;32min\u001B[0m \u001B[0malist\u001B[0m\u001B[0;34m:\u001B[0m\u001B[0;34m\u001B[0m\u001B[0;34m\u001B[0m\u001B[0m\n\u001B[0m\u001B[1;32m      3\u001B[0m     \u001B[0mx\u001B[0m \u001B[0;34m=\u001B[0m \u001B[0mb\u001B[0m\u001B[0;34m.\u001B[0m\u001B[0mloc\u001B[0m\u001B[0;34m[\u001B[0m\u001B[0mdate\u001B[0m\u001B[0;34m-\u001B[0m\u001B[0;36m3\u001B[0m\u001B[0;34m*\u001B[0m\u001B[0myear\u001B[0m \u001B[0;34m:\u001B[0m \u001B[0mdate\u001B[0m\u001B[0;34m-\u001B[0m\u001B[0;36m1\u001B[0m\u001B[0;34m]\u001B[0m\u001B[0;34m\u001B[0m\u001B[0;34m\u001B[0m\u001B[0m\n\u001B[1;32m      4\u001B[0m     \u001B[0my\u001B[0m \u001B[0;34m=\u001B[0m \u001B[0mreturn_\u001B[0m\u001B[0;34m\u001B[0m\u001B[0;34m\u001B[0m\u001B[0m\n\u001B[1;32m      5\u001B[0m     \u001B[0mx_\u001B[0m \u001B[0;34m=\u001B[0m \u001B[0mb\u001B[0m\u001B[0;34m.\u001B[0m\u001B[0mloc\u001B[0m\u001B[0;34m[\u001B[0m\u001B[0mdate\u001B[0m\u001B[0;34m]\u001B[0m\u001B[0;34m\u001B[0m\u001B[0;34m\u001B[0m\u001B[0m\n",
      "\u001B[0;31mNameError\u001B[0m: name 'alist' is not defined"
     ]
    }
   ],
   "source": [
    "b  # x\n",
    "for date in alist:\n",
    "    # we are now at 2020.01.30\n",
    "    # example: date = 2020.01.31\n",
    "    x = b.loc[date-3*year : date-1]   # 2017.01 to 2019.12\n",
    "    y = stockreturn_   # 2017.02 to 2020.01\n",
    "    x_ = b.loc[date]     # 2020.01.31\n",
    "    # run a regression\n",
    "    y_hat = fit(x,y).predict(x_)    # the expect return of 2020.02\n",
    "    \n",
    "    covmatrix\n",
    "\n",
    "\n",
    "    maximize = w*y_hat - riskAverse*w.T.dot(covmatrix).dot(w)\n",
    "\n",
    "\n",
    "\n",
    "    # have w\n",
    "    # actual portfolio return    when time = 2020.2, we can know the ture return of each stock r\n",
    "    apr = w * r\n",
    "    # sp500 return  we can also know the true return of sp500\n",
    "    sp500r\n"
   ],
   "metadata": {
    "collapsed": false,
    "pycharm": {
     "name": "#%%\n"
    }
   }
  }
 ],
 "metadata": {
  "kernelspec": {
   "display_name": "Python 3",
   "language": "python",
   "name": "python3"
  },
  "language_info": {
   "codemirror_mode": {
    "name": "ipython",
    "version": 2
   },
   "file_extension": ".py",
   "mimetype": "text/x-python",
   "name": "python",
   "nbconvert_exporter": "python",
   "pygments_lexer": "ipython2",
   "version": "2.7.6"
  }
 },
 "nbformat": 4,
 "nbformat_minor": 0
}